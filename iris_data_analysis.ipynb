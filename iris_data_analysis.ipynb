{
 "cells": [
  {
   "cell_type": "code",
   "execution_count": 1,
   "metadata": {},
   "outputs": [],
   "source": [
    "import pandas as pd\n",
    "import matplotlib.pyplot as plt"
   ]
  },
  {
   "cell_type": "code",
   "execution_count": 2,
   "metadata": {},
   "outputs": [
    {
     "data": {
      "text/html": [
       "<div>\n",
       "<style scoped>\n",
       "    .dataframe tbody tr th:only-of-type {\n",
       "        vertical-align: middle;\n",
       "    }\n",
       "\n",
       "    .dataframe tbody tr th {\n",
       "        vertical-align: top;\n",
       "    }\n",
       "\n",
       "    .dataframe thead th {\n",
       "        text-align: right;\n",
       "    }\n",
       "</style>\n",
       "<table border=\"1\" class=\"dataframe\">\n",
       "  <thead>\n",
       "    <tr style=\"text-align: right;\">\n",
       "      <th></th>\n",
       "      <th>sepal-length</th>\n",
       "      <th>sepal-width</th>\n",
       "      <th>petal-length</th>\n",
       "      <th>petal-width</th>\n",
       "      <th>class</th>\n",
       "    </tr>\n",
       "  </thead>\n",
       "  <tbody>\n",
       "    <tr>\n",
       "      <th>0</th>\n",
       "      <td>5.1</td>\n",
       "      <td>3.5</td>\n",
       "      <td>1.4</td>\n",
       "      <td>0.2</td>\n",
       "      <td>Iris-setosa</td>\n",
       "    </tr>\n",
       "    <tr>\n",
       "      <th>1</th>\n",
       "      <td>4.9</td>\n",
       "      <td>3.0</td>\n",
       "      <td>1.4</td>\n",
       "      <td>0.2</td>\n",
       "      <td>Iris-setosa</td>\n",
       "    </tr>\n",
       "    <tr>\n",
       "      <th>2</th>\n",
       "      <td>4.7</td>\n",
       "      <td>3.2</td>\n",
       "      <td>1.3</td>\n",
       "      <td>0.2</td>\n",
       "      <td>Iris-setosa</td>\n",
       "    </tr>\n",
       "    <tr>\n",
       "      <th>3</th>\n",
       "      <td>4.6</td>\n",
       "      <td>3.1</td>\n",
       "      <td>1.5</td>\n",
       "      <td>0.2</td>\n",
       "      <td>Iris-setosa</td>\n",
       "    </tr>\n",
       "    <tr>\n",
       "      <th>4</th>\n",
       "      <td>5.0</td>\n",
       "      <td>3.6</td>\n",
       "      <td>1.4</td>\n",
       "      <td>0.2</td>\n",
       "      <td>Iris-setosa</td>\n",
       "    </tr>\n",
       "  </tbody>\n",
       "</table>\n",
       "</div>"
      ],
      "text/plain": [
       "   sepal-length  sepal-width  petal-length  petal-width        class\n",
       "0           5.1          3.5           1.4          0.2  Iris-setosa\n",
       "1           4.9          3.0           1.4          0.2  Iris-setosa\n",
       "2           4.7          3.2           1.3          0.2  Iris-setosa\n",
       "3           4.6          3.1           1.5          0.2  Iris-setosa\n",
       "4           5.0          3.6           1.4          0.2  Iris-setosa"
      ]
     },
     "execution_count": 2,
     "metadata": {},
     "output_type": "execute_result"
    }
   ],
   "source": [
    "url=\"http://archive.ics.uci.edu/ml/machine-learning-databases/iris/iris.data\"\n",
    "names=[\"sepal-length\", \"sepal-width\", \"petal-length\", \"petal-width\",\"class\"]\n",
    "df=pd.read_csv(url,names=names)\n",
    "df.head()"
   ]
  },
  {
   "cell_type": "code",
   "execution_count": 3,
   "metadata": {},
   "outputs": [
    {
     "name": "stdout",
     "output_type": "stream",
     "text": [
      "<class 'pandas.core.frame.DataFrame'>\n",
      "RangeIndex: 150 entries, 0 to 149\n",
      "Data columns (total 5 columns):\n",
      "sepal-length    150 non-null float64\n",
      "sepal-width     150 non-null float64\n",
      "petal-length    150 non-null float64\n",
      "petal-width     150 non-null float64\n",
      "class           150 non-null object\n",
      "dtypes: float64(4), object(1)\n",
      "memory usage: 5.9+ KB\n"
     ]
    }
   ],
   "source": [
    "df.info()"
   ]
  },
  {
   "cell_type": "code",
   "execution_count": 4,
   "metadata": {},
   "outputs": [
    {
     "data": {
      "text/html": [
       "<div>\n",
       "<style scoped>\n",
       "    .dataframe tbody tr th:only-of-type {\n",
       "        vertical-align: middle;\n",
       "    }\n",
       "\n",
       "    .dataframe tbody tr th {\n",
       "        vertical-align: top;\n",
       "    }\n",
       "\n",
       "    .dataframe thead th {\n",
       "        text-align: right;\n",
       "    }\n",
       "</style>\n",
       "<table border=\"1\" class=\"dataframe\">\n",
       "  <thead>\n",
       "    <tr style=\"text-align: right;\">\n",
       "      <th></th>\n",
       "      <th>sepal-length</th>\n",
       "      <th>sepal-width</th>\n",
       "      <th>petal-length</th>\n",
       "      <th>petal-width</th>\n",
       "    </tr>\n",
       "  </thead>\n",
       "  <tbody>\n",
       "    <tr>\n",
       "      <th>count</th>\n",
       "      <td>150.000000</td>\n",
       "      <td>150.000000</td>\n",
       "      <td>150.000000</td>\n",
       "      <td>150.000000</td>\n",
       "    </tr>\n",
       "    <tr>\n",
       "      <th>mean</th>\n",
       "      <td>5.843333</td>\n",
       "      <td>3.054000</td>\n",
       "      <td>3.758667</td>\n",
       "      <td>1.198667</td>\n",
       "    </tr>\n",
       "    <tr>\n",
       "      <th>std</th>\n",
       "      <td>0.828066</td>\n",
       "      <td>0.433594</td>\n",
       "      <td>1.764420</td>\n",
       "      <td>0.763161</td>\n",
       "    </tr>\n",
       "    <tr>\n",
       "      <th>min</th>\n",
       "      <td>4.300000</td>\n",
       "      <td>2.000000</td>\n",
       "      <td>1.000000</td>\n",
       "      <td>0.100000</td>\n",
       "    </tr>\n",
       "    <tr>\n",
       "      <th>25%</th>\n",
       "      <td>5.100000</td>\n",
       "      <td>2.800000</td>\n",
       "      <td>1.600000</td>\n",
       "      <td>0.300000</td>\n",
       "    </tr>\n",
       "    <tr>\n",
       "      <th>50%</th>\n",
       "      <td>5.800000</td>\n",
       "      <td>3.000000</td>\n",
       "      <td>4.350000</td>\n",
       "      <td>1.300000</td>\n",
       "    </tr>\n",
       "    <tr>\n",
       "      <th>75%</th>\n",
       "      <td>6.400000</td>\n",
       "      <td>3.300000</td>\n",
       "      <td>5.100000</td>\n",
       "      <td>1.800000</td>\n",
       "    </tr>\n",
       "    <tr>\n",
       "      <th>max</th>\n",
       "      <td>7.900000</td>\n",
       "      <td>4.400000</td>\n",
       "      <td>6.900000</td>\n",
       "      <td>2.500000</td>\n",
       "    </tr>\n",
       "  </tbody>\n",
       "</table>\n",
       "</div>"
      ],
      "text/plain": [
       "       sepal-length  sepal-width  petal-length  petal-width\n",
       "count    150.000000   150.000000    150.000000   150.000000\n",
       "mean       5.843333     3.054000      3.758667     1.198667\n",
       "std        0.828066     0.433594      1.764420     0.763161\n",
       "min        4.300000     2.000000      1.000000     0.100000\n",
       "25%        5.100000     2.800000      1.600000     0.300000\n",
       "50%        5.800000     3.000000      4.350000     1.300000\n",
       "75%        6.400000     3.300000      5.100000     1.800000\n",
       "max        7.900000     4.400000      6.900000     2.500000"
      ]
     },
     "execution_count": 4,
     "metadata": {},
     "output_type": "execute_result"
    }
   ],
   "source": [
    "df.describe()"
   ]
  },
  {
   "cell_type": "code",
   "execution_count": 5,
   "metadata": {},
   "outputs": [
    {
     "data": {
      "text/plain": [
       "class\n",
       "Iris-setosa        50\n",
       "Iris-versicolor    50\n",
       "Iris-virginica     50\n",
       "dtype: int64"
      ]
     },
     "execution_count": 5,
     "metadata": {},
     "output_type": "execute_result"
    }
   ],
   "source": [
    "df.groupby(\"class\").size()"
   ]
  },
  {
   "cell_type": "code",
   "execution_count": 6,
   "metadata": {},
   "outputs": [
    {
     "data": {
      "text/plain": [
       "array(['Iris-setosa', 'Iris-versicolor', 'Iris-virginica'], dtype=object)"
      ]
     },
     "execution_count": 6,
     "metadata": {},
     "output_type": "execute_result"
    }
   ],
   "source": [
    "df[\"class\"].unique()"
   ]
  },
  {
   "cell_type": "code",
   "execution_count": 7,
   "metadata": {},
   "outputs": [
    {
     "data": {
      "text/plain": [
       "Iris-virginica     50\n",
       "Iris-setosa        50\n",
       "Iris-versicolor    50\n",
       "Name: class, dtype: int64"
      ]
     },
     "execution_count": 7,
     "metadata": {},
     "output_type": "execute_result"
    }
   ],
   "source": [
    "df[\"class\"].value_counts()"
   ]
  },
  {
   "cell_type": "code",
   "execution_count": 8,
   "metadata": {},
   "outputs": [
    {
     "data": {
      "text/plain": [
       "3"
      ]
     },
     "execution_count": 8,
     "metadata": {},
     "output_type": "execute_result"
    }
   ],
   "source": [
    "df[\"class\"].nunique()"
   ]
  },
  {
   "cell_type": "code",
   "execution_count": 9,
   "metadata": {},
   "outputs": [
    {
     "data": {
      "text/plain": [
       "sepal-length       AxesSubplot(0.125,0.536818;0.352273x0.343182)\n",
       "sepal-width     AxesSubplot(0.547727,0.536818;0.352273x0.343182)\n",
       "petal-length          AxesSubplot(0.125,0.125;0.352273x0.343182)\n",
       "petal-width        AxesSubplot(0.547727,0.125;0.352273x0.343182)\n",
       "dtype: object"
      ]
     },
     "execution_count": 9,
     "metadata": {},
     "output_type": "execute_result"
    },
    {
     "data": {
      "image/png": "[encoded data removed]",
      "text/plain": [
       "<Figure size 432x288 with 4 Axes>"
      ]
     },
     "metadata": {
      "needs_background": "light"
     },
     "output_type": "display_data"
    }
   ],
   "source": [
    "df.plot(kind=\"box\",subplots=\"True\", layout=(2,2),sharex=False,sharey=False)"
   ]
  },
  {
   "cell_type": "code",
   "execution_count": 10,
   "metadata": {},
   "outputs": [
    {
     "data": {
      "text/plain": [
       "sepal-length       AxesSubplot(0.125,0.71587;0.168478x0.16413)\n",
       "sepal-width     AxesSubplot(0.327174,0.71587;0.168478x0.16413)\n",
       "petal-length    AxesSubplot(0.529348,0.71587;0.168478x0.16413)\n",
       "petal-width     AxesSubplot(0.731522,0.71587;0.168478x0.16413)\n",
       "dtype: object"
      ]
     },
     "execution_count": 10,
     "metadata": {},
     "output_type": "execute_result"
    },
    {
     "data": {
      "image/png": "[encoded data removed]",
      "text/plain": [
       "<Figure size 432x288 with 16 Axes>"
      ]
     },
     "metadata": {
      "needs_background": "light"
     },
     "output_type": "display_data"
    }
   ],
   "source": [
    "df.plot(kind=\"box\",subplots=\"True\", layout=(4,4),sharex=False,sharey=False)"
   ]
  },
  {
   "cell_type": "code",
   "execution_count": 11,
   "metadata": {},
   "outputs": [
    {
     "data": {
      "text/plain": [
       "array([[<matplotlib.axes._subplots.AxesSubplot object at 0x0000000943D52B70>,\n",
       "        <matplotlib.axes._subplots.AxesSubplot object at 0x0000000943D80E80>],\n",
       "       [<matplotlib.axes._subplots.AxesSubplot object at 0x0000000943DB20F0>,\n",
       "        <matplotlib.axes._subplots.AxesSubplot object at 0x0000000943DD9588>]],\n",
       "      dtype=object)"
      ]
     },
     "execution_count": 11,
     "metadata": {},
     "output_type": "execute_result"
    },
    {
     "data": {
      "image/png": "[encoded data removed]",
      "text/plain": [
       "<Figure size 432x288 with 4 Axes>"
      ]
     },
     "metadata": {
      "needs_background": "light"
     },
     "output_type": "display_data"
    }
   ],
   "source": [
    "df.hist()"
   ]
  },
  {
   "cell_type": "code",
   "execution_count": 12,
   "metadata": {},
   "outputs": [
    {
     "data": {
      "text/plain": [
       "array([[<matplotlib.axes._subplots.AxesSubplot object at 0x0000000943EC75C0>,\n",
       "        <matplotlib.axes._subplots.AxesSubplot object at 0x0000000943F0E048>,\n",
       "        <matplotlib.axes._subplots.AxesSubplot object at 0x0000000943F34588>,\n",
       "        <matplotlib.axes._subplots.AxesSubplot object at 0x0000000943F5BB00>],\n",
       "       [<matplotlib.axes._subplots.AxesSubplot object at 0x0000000943F8D0B8>,\n",
       "        <matplotlib.axes._subplots.AxesSubplot object at 0x0000000943FB2630>,\n",
       "        <matplotlib.axes._subplots.AxesSubplot object at 0x0000000943FDCBA8>,\n",
       "        <matplotlib.axes._subplots.AxesSubplot object at 0x000000094400E198>],\n",
       "       [<matplotlib.axes._subplots.AxesSubplot object at 0x000000094400E1D0>,\n",
       "        <matplotlib.axes._subplots.AxesSubplot object at 0x000000094405EC50>,\n",
       "        <matplotlib.axes._subplots.AxesSubplot object at 0x00000009440901D0>,\n",
       "        <matplotlib.axes._subplots.AxesSubplot object at 0x00000009440B6748>],\n",
       "       [<matplotlib.axes._subplots.AxesSubplot object at 0x00000009440DDCC0>,\n",
       "        <matplotlib.axes._subplots.AxesSubplot object at 0x000000094410F278>,\n",
       "        <matplotlib.axes._subplots.AxesSubplot object at 0x00000009441377F0>,\n",
       "        <matplotlib.axes._subplots.AxesSubplot object at 0x000000094415ED68>]],\n",
       "      dtype=object)"
      ]
     },
     "execution_count": 12,
     "metadata": {},
     "output_type": "execute_result"
    },
    {
     "data": {
      "text/plain": [
       "<Figure size 864x576 with 0 Axes>"
      ]
     },
     "metadata": {},
     "output_type": "display_data"
    },
    {
     "data": {
      "image/png": "[encoded data removed]",
      "text/plain": [
       "<Figure size 432x288 with 16 Axes>"
      ]
     },
     "metadata": {
      "needs_background": "light"
     },
     "output_type": "display_data"
    }
   ],
   "source": [
    "import pandas.plotting as pp\n",
    "plt.figure(figsize=(12,8))\n",
    "pp.scatter_matrix(df)"
   ]
  },
  {
   "cell_type": "code",
   "execution_count": 13,
   "metadata": {},
   "outputs": [],
   "source": [
    "import seaborn as sns"
   ]
  },
  {
   "cell_type": "code",
   "execution_count": 14,
   "metadata": {},
   "outputs": [
    {
     "data": {
      "image/png": "[encoded data removed]",
      "text/plain": [
       "<Figure size 823.5x720 with 20 Axes>"
      ]
     },
     "metadata": {
      "needs_background": "light"
     },
     "output_type": "display_data"
    }
   ],
   "source": [
    "g = sns.pairplot(df, hue='class', markers='+')\n",
    "plt.show()"
   ]
  },
  {
   "cell_type": "code",
   "execution_count": 15,
   "metadata": {},
   "outputs": [
    {
     "data": {
      "text/html": [
       "<div>\n",
       "<style scoped>\n",
       "    .dataframe tbody tr th:only-of-type {\n",
       "        vertical-align: middle;\n",
       "    }\n",
       "\n",
       "    .dataframe tbody tr th {\n",
       "        vertical-align: top;\n",
       "    }\n",
       "\n",
       "    .dataframe thead th {\n",
       "        text-align: right;\n",
       "    }\n",
       "</style>\n",
       "<table border=\"1\" class=\"dataframe\">\n",
       "  <thead>\n",
       "    <tr style=\"text-align: right;\">\n",
       "      <th></th>\n",
       "      <th>sepal-length</th>\n",
       "      <th>sepal-width</th>\n",
       "      <th>petal-length</th>\n",
       "      <th>petal-width</th>\n",
       "    </tr>\n",
       "  </thead>\n",
       "  <tbody>\n",
       "    <tr>\n",
       "      <th>0</th>\n",
       "      <td>5.1</td>\n",
       "      <td>3.5</td>\n",
       "      <td>1.4</td>\n",
       "      <td>0.2</td>\n",
       "    </tr>\n",
       "    <tr>\n",
       "      <th>1</th>\n",
       "      <td>4.9</td>\n",
       "      <td>3.0</td>\n",
       "      <td>1.4</td>\n",
       "      <td>0.2</td>\n",
       "    </tr>\n",
       "    <tr>\n",
       "      <th>2</th>\n",
       "      <td>4.7</td>\n",
       "      <td>3.2</td>\n",
       "      <td>1.3</td>\n",
       "      <td>0.2</td>\n",
       "    </tr>\n",
       "    <tr>\n",
       "      <th>3</th>\n",
       "      <td>4.6</td>\n",
       "      <td>3.1</td>\n",
       "      <td>1.5</td>\n",
       "      <td>0.2</td>\n",
       "    </tr>\n",
       "    <tr>\n",
       "      <th>4</th>\n",
       "      <td>5.0</td>\n",
       "      <td>3.6</td>\n",
       "      <td>1.4</td>\n",
       "      <td>0.2</td>\n",
       "    </tr>\n",
       "  </tbody>\n",
       "</table>\n",
       "</div>"
      ],
      "text/plain": [
       "   sepal-length  sepal-width  petal-length  petal-width\n",
       "0           5.1          3.5           1.4          0.2\n",
       "1           4.9          3.0           1.4          0.2\n",
       "2           4.7          3.2           1.3          0.2\n",
       "3           4.6          3.1           1.5          0.2\n",
       "4           5.0          3.6           1.4          0.2"
      ]
     },
     "execution_count": 15,
     "metadata": {},
     "output_type": "execute_result"
    }
   ],
   "source": [
    "X=df.iloc[:,:4]\n",
    "X.head()"
   ]
  },
  {
   "cell_type": "code",
   "execution_count": 16,
   "metadata": {},
   "outputs": [
    {
     "data": {
      "text/plain": [
       "0    Iris-setosa\n",
       "1    Iris-setosa\n",
       "2    Iris-setosa\n",
       "3    Iris-setosa\n",
       "4    Iris-setosa\n",
       "Name: class, dtype: object"
      ]
     },
     "execution_count": 16,
     "metadata": {},
     "output_type": "execute_result"
    }
   ],
   "source": [
    "y=df.iloc[:,-1]\n",
    "y.head()"
   ]
  },
  {
   "cell_type": "code",
   "execution_count": 17,
   "metadata": {},
   "outputs": [],
   "source": [
    "from sklearn.model_selection import train_test_split as split\n",
    "X_train,X_test,y_train,y_test=split(X,y,test_size=0.2,random_state=0)"
   ]
  },
  {
   "cell_type": "code",
   "execution_count": 18,
   "metadata": {},
   "outputs": [],
   "source": [
    "from sklearn.naive_bayes import GaussianNB\n",
    "from sklearn.neighbors import KNeighborsClassifier,NearestNeighbors\n",
    "from sklearn.svm import SVC\n",
    "from sklearn.tree import DecisionTreeClassifier\n",
    "from sklearn.ensemble import RandomForestClassifier,AdaBoostClassifier\n",
    "from sklearn.linear_model import LogisticRegression"
   ]
  },
  {
   "cell_type": "code",
   "execution_count": 222,
   "metadata": {},
   "outputs": [],
   "source": [
    "model0=SVC()\n",
    "model1=GaussianNB()\n",
    "model2=KNeighborsClassifier()\n",
    "model3=DecisionTreeClassifier()\n",
    "model4=RandomForestClassifier()\n",
    "model5=AdaBoostClassifier()\n",
    "model6=LogisticRegression()"
   ]
  },
  {
   "cell_type": "code",
   "execution_count": 223,
   "metadata": {},
   "outputs": [
    {
     "name": "stderr",
     "output_type": "stream",
     "text": [
      "C:\\Users\\gold\\Anaconda3\\lib\\site-packages\\sklearn\\svm\\base.py:196: FutureWarning: The default value of gamma will change from 'auto' to 'scale' in version 0.22 to account better for unscaled features. Set gamma explicitly to 'auto' or 'scale' to avoid this warning.\n",
      "  \"avoid this warning.\", FutureWarning)\n",
      "C:\\Users\\gold\\Anaconda3\\lib\\site-packages\\sklearn\\ensemble\\forest.py:246: FutureWarning: The default value of n_estimators will change from 10 in version 0.20 to 100 in 0.22.\n",
      "  \"10 in version 0.20 to 100 in 0.22.\", FutureWarning)\n",
      "C:\\Users\\gold\\Anaconda3\\lib\\site-packages\\sklearn\\linear_model\\logistic.py:433: FutureWarning: Default solver will be changed to 'lbfgs' in 0.22. Specify a solver to silence this warning.\n",
      "  FutureWarning)\n",
      "C:\\Users\\gold\\Anaconda3\\lib\\site-packages\\sklearn\\linear_model\\logistic.py:460: FutureWarning: Default multi_class will be changed to 'auto' in 0.22. Specify the multi_class option to silence this warning.\n",
      "  \"this warning.\", FutureWarning)\n"
     ]
    },
    {
     "data": {
      "text/plain": [
       "LogisticRegression(C=1.0, class_weight=None, dual=False, fit_intercept=True,\n",
       "          intercept_scaling=1, max_iter=100, multi_class='warn',\n",
       "          n_jobs=None, penalty='l2', random_state=None, solver='warn',\n",
       "          tol=0.0001, verbose=0, warm_start=False)"
      ]
     },
     "execution_count": 223,
     "metadata": {},
     "output_type": "execute_result"
    }
   ],
   "source": [
    "model0.fit(X_train,y_train)\n",
    "model1.fit(X_train,y_train)\n",
    "model2.fit(X_train,y_train)\n",
    "model3.fit(X_train,y_train)\n",
    "model4.fit(X_train,y_train)\n",
    "model5.fit(X_train,y_train)\n",
    "model6.fit(X_train,y_train)"
   ]
  },
  {
   "cell_type": "code",
   "execution_count": 224,
   "metadata": {},
   "outputs": [
    {
     "name": "stdout",
     "output_type": "stream",
     "text": [
      "SVC(): 0.975 1.0\n",
      "GaussianNB(): 0.95 0.9666666666666667\n",
      "KNeighborsClassifier(): 0.95 0.9666666666666667\n",
      "DecisionTreeClassifier(): 1.0 1.0\n",
      "RandomForestClassifier(): 0.9916666666666667 0.9666666666666667\n",
      "AdaBoostClassifier(): 0.9583333333333334 0.9666666666666667\n",
      "LogisticRegression(): 0.9333333333333333 0.9666666666666667\n"
     ]
    }
   ],
   "source": [
    "print(\"SVC():\",model0.score(X_train,y_train),model0.score(X_test,y_test))\n",
    "print(\"GaussianNB():\",model1.score(X_train,y_train),model1.score(X_test,y_test))\n",
    "print(\"KNeighborsClassifier():\",model2.score(X_train,y_train),model2.score(X_test,y_test))\n",
    "print(\"DecisionTreeClassifier():\",model3.score(X_train,y_train),model3.score(X_test,y_test))\n",
    "print(\"RandomForestClassifier():\",model4.score(X_train,y_train),model4.score(X_test,y_test))\n",
    "print(\"AdaBoostClassifier():\",model5.score(X_train,y_train),model5.score(X_test,y_test))\n",
    "print(\"LogisticRegression():\",model6.score(X_train,y_train),model5.score(X_test,y_test))"
   ]
  },
  {
   "cell_type": "code",
   "execution_count": 22,
   "metadata": {},
   "outputs": [],
   "source": [
    "from sklearn.metrics import confusion_matrix,precision_score,recall_score,f1_score"
   ]
  },
  {
   "cell_type": "code",
   "execution_count": 225,
   "metadata": {},
   "outputs": [],
   "source": [
    "model_list=[model0,model1,model2,model3,model4,model5,model6]"
   ]
  },
  {
   "cell_type": "code",
   "execution_count": 24,
   "metadata": {},
   "outputs": [
    {
     "data": {
      "text/plain": [
       "[array(['Iris-virginica', 'Iris-versicolor', 'Iris-setosa',\n",
       "        'Iris-virginica', 'Iris-setosa', 'Iris-virginica', 'Iris-setosa',\n",
       "        'Iris-versicolor', 'Iris-versicolor', 'Iris-versicolor',\n",
       "        'Iris-virginica', 'Iris-versicolor', 'Iris-versicolor',\n",
       "        'Iris-versicolor', 'Iris-versicolor', 'Iris-setosa',\n",
       "        'Iris-versicolor', 'Iris-versicolor', 'Iris-setosa', 'Iris-setosa',\n",
       "        'Iris-virginica', 'Iris-versicolor', 'Iris-setosa', 'Iris-setosa',\n",
       "        'Iris-virginica', 'Iris-setosa', 'Iris-setosa', 'Iris-versicolor',\n",
       "        'Iris-versicolor', 'Iris-setosa'], dtype=object),\n",
       " array(['Iris-virginica', 'Iris-versicolor', 'Iris-setosa',\n",
       "        'Iris-virginica', 'Iris-setosa', 'Iris-virginica', 'Iris-setosa',\n",
       "        'Iris-versicolor', 'Iris-versicolor', 'Iris-versicolor',\n",
       "        'Iris-versicolor', 'Iris-versicolor', 'Iris-versicolor',\n",
       "        'Iris-versicolor', 'Iris-versicolor', 'Iris-setosa',\n",
       "        'Iris-versicolor', 'Iris-versicolor', 'Iris-setosa', 'Iris-setosa',\n",
       "        'Iris-virginica', 'Iris-versicolor', 'Iris-setosa', 'Iris-setosa',\n",
       "        'Iris-virginica', 'Iris-setosa', 'Iris-setosa', 'Iris-versicolor',\n",
       "        'Iris-versicolor', 'Iris-setosa'], dtype='<U15'),\n",
       " array(['Iris-virginica', 'Iris-versicolor', 'Iris-setosa',\n",
       "        'Iris-virginica', 'Iris-setosa', 'Iris-virginica', 'Iris-setosa',\n",
       "        'Iris-versicolor', 'Iris-versicolor', 'Iris-versicolor',\n",
       "        'Iris-virginica', 'Iris-versicolor', 'Iris-versicolor',\n",
       "        'Iris-versicolor', 'Iris-virginica', 'Iris-setosa',\n",
       "        'Iris-versicolor', 'Iris-versicolor', 'Iris-setosa', 'Iris-setosa',\n",
       "        'Iris-virginica', 'Iris-versicolor', 'Iris-setosa', 'Iris-setosa',\n",
       "        'Iris-virginica', 'Iris-setosa', 'Iris-setosa', 'Iris-versicolor',\n",
       "        'Iris-versicolor', 'Iris-setosa'], dtype=object),\n",
       " array(['Iris-virginica', 'Iris-versicolor', 'Iris-setosa',\n",
       "        'Iris-virginica', 'Iris-setosa', 'Iris-virginica', 'Iris-setosa',\n",
       "        'Iris-versicolor', 'Iris-versicolor', 'Iris-versicolor',\n",
       "        'Iris-virginica', 'Iris-versicolor', 'Iris-versicolor',\n",
       "        'Iris-versicolor', 'Iris-versicolor', 'Iris-setosa',\n",
       "        'Iris-versicolor', 'Iris-versicolor', 'Iris-setosa', 'Iris-setosa',\n",
       "        'Iris-virginica', 'Iris-versicolor', 'Iris-setosa', 'Iris-setosa',\n",
       "        'Iris-virginica', 'Iris-setosa', 'Iris-setosa', 'Iris-versicolor',\n",
       "        'Iris-versicolor', 'Iris-setosa'], dtype=object),\n",
       " array(['Iris-virginica', 'Iris-versicolor', 'Iris-setosa',\n",
       "        'Iris-virginica', 'Iris-setosa', 'Iris-virginica', 'Iris-setosa',\n",
       "        'Iris-versicolor', 'Iris-versicolor', 'Iris-versicolor',\n",
       "        'Iris-versicolor', 'Iris-versicolor', 'Iris-versicolor',\n",
       "        'Iris-versicolor', 'Iris-versicolor', 'Iris-setosa',\n",
       "        'Iris-versicolor', 'Iris-versicolor', 'Iris-setosa', 'Iris-setosa',\n",
       "        'Iris-virginica', 'Iris-versicolor', 'Iris-setosa', 'Iris-setosa',\n",
       "        'Iris-virginica', 'Iris-setosa', 'Iris-setosa', 'Iris-versicolor',\n",
       "        'Iris-versicolor', 'Iris-setosa'], dtype=object),\n",
       " array(['Iris-virginica', 'Iris-versicolor', 'Iris-setosa',\n",
       "        'Iris-virginica', 'Iris-setosa', 'Iris-virginica', 'Iris-setosa',\n",
       "        'Iris-versicolor', 'Iris-versicolor', 'Iris-versicolor',\n",
       "        'Iris-versicolor', 'Iris-versicolor', 'Iris-versicolor',\n",
       "        'Iris-versicolor', 'Iris-versicolor', 'Iris-setosa',\n",
       "        'Iris-versicolor', 'Iris-versicolor', 'Iris-setosa', 'Iris-setosa',\n",
       "        'Iris-virginica', 'Iris-versicolor', 'Iris-setosa', 'Iris-setosa',\n",
       "        'Iris-virginica', 'Iris-setosa', 'Iris-setosa', 'Iris-versicolor',\n",
       "        'Iris-versicolor', 'Iris-setosa'], dtype=object),\n",
       " array(['Iris-virginica', 'Iris-versicolor', 'Iris-setosa',\n",
       "        'Iris-virginica', 'Iris-setosa', 'Iris-virginica', 'Iris-setosa',\n",
       "        'Iris-versicolor', 'Iris-versicolor', 'Iris-versicolor',\n",
       "        'Iris-virginica', 'Iris-versicolor', 'Iris-versicolor',\n",
       "        'Iris-versicolor', 'Iris-versicolor', 'Iris-setosa',\n",
       "        'Iris-versicolor', 'Iris-versicolor', 'Iris-setosa', 'Iris-setosa',\n",
       "        'Iris-virginica', 'Iris-virginica', 'Iris-setosa', 'Iris-setosa',\n",
       "        'Iris-virginica', 'Iris-setosa', 'Iris-setosa', 'Iris-versicolor',\n",
       "        'Iris-versicolor', 'Iris-setosa'], dtype=object)]"
      ]
     },
     "execution_count": 24,
     "metadata": {},
     "output_type": "execute_result"
    }
   ],
   "source": [
    "y_preds=[model.predict(X_test) for model in model_list]\n",
    "y_preds"
   ]
  },
  {
   "cell_type": "code",
   "execution_count": 25,
   "metadata": {},
   "outputs": [
    {
     "data": {
      "text/plain": [
       "[array([1., 1., 1.]),\n",
       " array([1.        , 0.92857143, 1.        ]),\n",
       " array([1.        , 1.        , 0.85714286]),\n",
       " array([1., 1., 1.]),\n",
       " array([1.        , 0.92857143, 1.        ]),\n",
       " array([1.        , 0.92857143, 1.        ]),\n",
       " array([1.        , 1.        , 0.85714286])]"
      ]
     },
     "execution_count": 25,
     "metadata": {},
     "output_type": "execute_result"
    }
   ],
   "source": [
    "precision_scores=[precision_score(y_test,i,average=None) for i in y_preds]\n",
    "precision_scores"
   ]
  },
  {
   "cell_type": "code",
   "execution_count": 30,
   "metadata": {},
   "outputs": [
    {
     "data": {
      "text/html": [
       "<div>\n",
       "<style scoped>\n",
       "    .dataframe tbody tr th:only-of-type {\n",
       "        vertical-align: middle;\n",
       "    }\n",
       "\n",
       "    .dataframe tbody tr th {\n",
       "        vertical-align: top;\n",
       "    }\n",
       "\n",
       "    .dataframe thead th {\n",
       "        text-align: right;\n",
       "    }\n",
       "</style>\n",
       "<table border=\"1\" class=\"dataframe\">\n",
       "  <thead>\n",
       "    <tr style=\"text-align: right;\">\n",
       "      <th></th>\n",
       "      <th>0</th>\n",
       "      <th>1</th>\n",
       "      <th>2</th>\n",
       "    </tr>\n",
       "  </thead>\n",
       "  <tbody>\n",
       "    <tr>\n",
       "      <th>model</th>\n",
       "      <td>1.0</td>\n",
       "      <td>1.000000</td>\n",
       "      <td>1.000000</td>\n",
       "    </tr>\n",
       "    <tr>\n",
       "      <th>model1</th>\n",
       "      <td>1.0</td>\n",
       "      <td>0.928571</td>\n",
       "      <td>1.000000</td>\n",
       "    </tr>\n",
       "    <tr>\n",
       "      <th>model2</th>\n",
       "      <td>1.0</td>\n",
       "      <td>1.000000</td>\n",
       "      <td>0.857143</td>\n",
       "    </tr>\n",
       "    <tr>\n",
       "      <th>model3</th>\n",
       "      <td>1.0</td>\n",
       "      <td>1.000000</td>\n",
       "      <td>1.000000</td>\n",
       "    </tr>\n",
       "    <tr>\n",
       "      <th>model4</th>\n",
       "      <td>1.0</td>\n",
       "      <td>0.928571</td>\n",
       "      <td>1.000000</td>\n",
       "    </tr>\n",
       "    <tr>\n",
       "      <th>model5</th>\n",
       "      <td>1.0</td>\n",
       "      <td>0.928571</td>\n",
       "      <td>1.000000</td>\n",
       "    </tr>\n",
       "    <tr>\n",
       "      <th>model6</th>\n",
       "      <td>1.0</td>\n",
       "      <td>1.000000</td>\n",
       "      <td>0.857143</td>\n",
       "    </tr>\n",
       "  </tbody>\n",
       "</table>\n",
       "</div>"
      ],
      "text/plain": [
       "          0         1         2\n",
       "model   1.0  1.000000  1.000000\n",
       "model1  1.0  0.928571  1.000000\n",
       "model2  1.0  1.000000  0.857143\n",
       "model3  1.0  1.000000  1.000000\n",
       "model4  1.0  0.928571  1.000000\n",
       "model5  1.0  0.928571  1.000000\n",
       "model6  1.0  1.000000  0.857143"
      ]
     },
     "execution_count": 30,
     "metadata": {},
     "output_type": "execute_result"
    }
   ],
   "source": [
    "INDEX=[\"model\",\"model1\",\"model2\",\"model3\",\"model4\",\"model5\",\"model6\"]\n",
    "precision=pd.DataFrame(data=(precision_scores),index=INDEX)\n",
    "precision"
   ]
  },
  {
   "cell_type": "code",
   "execution_count": 26,
   "metadata": {},
   "outputs": [
    {
     "data": {
      "text/plain": [
       "[array([1., 1., 1.]),\n",
       " array([1.        , 1.        , 0.83333333]),\n",
       " array([1.        , 0.92307692, 1.        ]),\n",
       " array([1., 1., 1.]),\n",
       " array([1.        , 1.        , 0.83333333]),\n",
       " array([1.        , 1.        , 0.83333333]),\n",
       " array([1.        , 0.92307692, 1.        ])]"
      ]
     },
     "execution_count": 26,
     "metadata": {},
     "output_type": "execute_result"
    }
   ],
   "source": [
    "recall_scores=[recall_score(y_test,i,average=None) for i in y_preds]\n",
    "recall_scores"
   ]
  },
  {
   "cell_type": "code",
   "execution_count": 31,
   "metadata": {},
   "outputs": [
    {
     "data": {
      "text/html": [
       "<div>\n",
       "<style scoped>\n",
       "    .dataframe tbody tr th:only-of-type {\n",
       "        vertical-align: middle;\n",
       "    }\n",
       "\n",
       "    .dataframe tbody tr th {\n",
       "        vertical-align: top;\n",
       "    }\n",
       "\n",
       "    .dataframe thead th {\n",
       "        text-align: right;\n",
       "    }\n",
       "</style>\n",
       "<table border=\"1\" class=\"dataframe\">\n",
       "  <thead>\n",
       "    <tr style=\"text-align: right;\">\n",
       "      <th></th>\n",
       "      <th>0</th>\n",
       "      <th>1</th>\n",
       "      <th>2</th>\n",
       "    </tr>\n",
       "  </thead>\n",
       "  <tbody>\n",
       "    <tr>\n",
       "      <th>model</th>\n",
       "      <td>1.0</td>\n",
       "      <td>1.000000</td>\n",
       "      <td>1.000000</td>\n",
       "    </tr>\n",
       "    <tr>\n",
       "      <th>model1</th>\n",
       "      <td>1.0</td>\n",
       "      <td>1.000000</td>\n",
       "      <td>0.833333</td>\n",
       "    </tr>\n",
       "    <tr>\n",
       "      <th>model2</th>\n",
       "      <td>1.0</td>\n",
       "      <td>0.923077</td>\n",
       "      <td>1.000000</td>\n",
       "    </tr>\n",
       "    <tr>\n",
       "      <th>model3</th>\n",
       "      <td>1.0</td>\n",
       "      <td>1.000000</td>\n",
       "      <td>1.000000</td>\n",
       "    </tr>\n",
       "    <tr>\n",
       "      <th>model4</th>\n",
       "      <td>1.0</td>\n",
       "      <td>1.000000</td>\n",
       "      <td>0.833333</td>\n",
       "    </tr>\n",
       "    <tr>\n",
       "      <th>model5</th>\n",
       "      <td>1.0</td>\n",
       "      <td>1.000000</td>\n",
       "      <td>0.833333</td>\n",
       "    </tr>\n",
       "    <tr>\n",
       "      <th>model6</th>\n",
       "      <td>1.0</td>\n",
       "      <td>0.923077</td>\n",
       "      <td>1.000000</td>\n",
       "    </tr>\n",
       "  </tbody>\n",
       "</table>\n",
       "</div>"
      ],
      "text/plain": [
       "          0         1         2\n",
       "model   1.0  1.000000  1.000000\n",
       "model1  1.0  1.000000  0.833333\n",
       "model2  1.0  0.923077  1.000000\n",
       "model3  1.0  1.000000  1.000000\n",
       "model4  1.0  1.000000  0.833333\n",
       "model5  1.0  1.000000  0.833333\n",
       "model6  1.0  0.923077  1.000000"
      ]
     },
     "execution_count": 31,
     "metadata": {},
     "output_type": "execute_result"
    }
   ],
   "source": [
    "INDEX=[\"model\",\"model1\",\"model2\",\"model3\",\"model4\",\"model5\",\"model6\"]\n",
    "recall=pd.DataFrame(data=(recall_scores),index=INDEX)\n",
    "recall"
   ]
  },
  {
   "cell_type": "code",
   "execution_count": 27,
   "metadata": {},
   "outputs": [
    {
     "data": {
      "text/plain": [
       "[array([1., 1., 1.]),\n",
       " array([1.        , 0.96296296, 0.90909091]),\n",
       " array([1.        , 0.96      , 0.92307692]),\n",
       " array([1., 1., 1.]),\n",
       " array([1.        , 0.96296296, 0.90909091]),\n",
       " array([1.        , 0.96296296, 0.90909091]),\n",
       " array([1.        , 0.96      , 0.92307692])]"
      ]
     },
     "execution_count": 27,
     "metadata": {},
     "output_type": "execute_result"
    }
   ],
   "source": [
    "f1_scores=[f1_score(y_test,i,average=None) for i in y_preds]\n",
    "f1_scores"
   ]
  },
  {
   "cell_type": "code",
   "execution_count": 32,
   "metadata": {},
   "outputs": [
    {
     "data": {
      "text/html": [
       "<div>\n",
       "<style scoped>\n",
       "    .dataframe tbody tr th:only-of-type {\n",
       "        vertical-align: middle;\n",
       "    }\n",
       "\n",
       "    .dataframe tbody tr th {\n",
       "        vertical-align: top;\n",
       "    }\n",
       "\n",
       "    .dataframe thead th {\n",
       "        text-align: right;\n",
       "    }\n",
       "</style>\n",
       "<table border=\"1\" class=\"dataframe\">\n",
       "  <thead>\n",
       "    <tr style=\"text-align: right;\">\n",
       "      <th></th>\n",
       "      <th>0</th>\n",
       "      <th>1</th>\n",
       "      <th>2</th>\n",
       "    </tr>\n",
       "  </thead>\n",
       "  <tbody>\n",
       "    <tr>\n",
       "      <th>model</th>\n",
       "      <td>1.0</td>\n",
       "      <td>1.000000</td>\n",
       "      <td>1.000000</td>\n",
       "    </tr>\n",
       "    <tr>\n",
       "      <th>model1</th>\n",
       "      <td>1.0</td>\n",
       "      <td>0.962963</td>\n",
       "      <td>0.909091</td>\n",
       "    </tr>\n",
       "    <tr>\n",
       "      <th>model2</th>\n",
       "      <td>1.0</td>\n",
       "      <td>0.960000</td>\n",
       "      <td>0.923077</td>\n",
       "    </tr>\n",
       "    <tr>\n",
       "      <th>model3</th>\n",
       "      <td>1.0</td>\n",
       "      <td>1.000000</td>\n",
       "      <td>1.000000</td>\n",
       "    </tr>\n",
       "    <tr>\n",
       "      <th>model4</th>\n",
       "      <td>1.0</td>\n",
       "      <td>0.962963</td>\n",
       "      <td>0.909091</td>\n",
       "    </tr>\n",
       "    <tr>\n",
       "      <th>model5</th>\n",
       "      <td>1.0</td>\n",
       "      <td>0.962963</td>\n",
       "      <td>0.909091</td>\n",
       "    </tr>\n",
       "    <tr>\n",
       "      <th>model6</th>\n",
       "      <td>1.0</td>\n",
       "      <td>0.960000</td>\n",
       "      <td>0.923077</td>\n",
       "    </tr>\n",
       "  </tbody>\n",
       "</table>\n",
       "</div>"
      ],
      "text/plain": [
       "          0         1         2\n",
       "model   1.0  1.000000  1.000000\n",
       "model1  1.0  0.962963  0.909091\n",
       "model2  1.0  0.960000  0.923077\n",
       "model3  1.0  1.000000  1.000000\n",
       "model4  1.0  0.962963  0.909091\n",
       "model5  1.0  0.962963  0.909091\n",
       "model6  1.0  0.960000  0.923077"
      ]
     },
     "execution_count": 32,
     "metadata": {},
     "output_type": "execute_result"
    }
   ],
   "source": [
    "INDEX=[\"model\",\"model1\",\"model2\",\"model3\",\"model4\",\"model5\",\"model6\"]\n",
    "f1=pd.DataFrame(data=(f1_scores),index=INDEX)\n",
    "f1"
   ]
  },
  {
   "cell_type": "code",
   "execution_count": 40,
   "metadata": {},
   "outputs": [
    {
     "data": {
      "text/html": [
       "<div>\n",
       "<style scoped>\n",
       "    .dataframe tbody tr th:only-of-type {\n",
       "        vertical-align: middle;\n",
       "    }\n",
       "\n",
       "    .dataframe tbody tr th {\n",
       "        vertical-align: top;\n",
       "    }\n",
       "\n",
       "    .dataframe thead th {\n",
       "        text-align: right;\n",
       "    }\n",
       "</style>\n",
       "<table border=\"1\" class=\"dataframe\">\n",
       "  <thead>\n",
       "    <tr style=\"text-align: right;\">\n",
       "      <th></th>\n",
       "      <th>0</th>\n",
       "      <th>1</th>\n",
       "      <th>2</th>\n",
       "      <th>0</th>\n",
       "      <th>1</th>\n",
       "      <th>2</th>\n",
       "      <th>0</th>\n",
       "      <th>1</th>\n",
       "      <th>2</th>\n",
       "    </tr>\n",
       "  </thead>\n",
       "  <tbody>\n",
       "    <tr>\n",
       "      <th>model</th>\n",
       "      <td>1.0</td>\n",
       "      <td>1.000000</td>\n",
       "      <td>1.000000</td>\n",
       "      <td>1.0</td>\n",
       "      <td>1.000000</td>\n",
       "      <td>1.000000</td>\n",
       "      <td>1.0</td>\n",
       "      <td>1.000000</td>\n",
       "      <td>1.000000</td>\n",
       "    </tr>\n",
       "    <tr>\n",
       "      <th>model1</th>\n",
       "      <td>1.0</td>\n",
       "      <td>0.928571</td>\n",
       "      <td>1.000000</td>\n",
       "      <td>1.0</td>\n",
       "      <td>1.000000</td>\n",
       "      <td>0.833333</td>\n",
       "      <td>1.0</td>\n",
       "      <td>0.962963</td>\n",
       "      <td>0.909091</td>\n",
       "    </tr>\n",
       "    <tr>\n",
       "      <th>model2</th>\n",
       "      <td>1.0</td>\n",
       "      <td>1.000000</td>\n",
       "      <td>0.857143</td>\n",
       "      <td>1.0</td>\n",
       "      <td>0.923077</td>\n",
       "      <td>1.000000</td>\n",
       "      <td>1.0</td>\n",
       "      <td>0.960000</td>\n",
       "      <td>0.923077</td>\n",
       "    </tr>\n",
       "    <tr>\n",
       "      <th>model3</th>\n",
       "      <td>1.0</td>\n",
       "      <td>1.000000</td>\n",
       "      <td>1.000000</td>\n",
       "      <td>1.0</td>\n",
       "      <td>1.000000</td>\n",
       "      <td>1.000000</td>\n",
       "      <td>1.0</td>\n",
       "      <td>1.000000</td>\n",
       "      <td>1.000000</td>\n",
       "    </tr>\n",
       "    <tr>\n",
       "      <th>model4</th>\n",
       "      <td>1.0</td>\n",
       "      <td>0.928571</td>\n",
       "      <td>1.000000</td>\n",
       "      <td>1.0</td>\n",
       "      <td>1.000000</td>\n",
       "      <td>0.833333</td>\n",
       "      <td>1.0</td>\n",
       "      <td>0.962963</td>\n",
       "      <td>0.909091</td>\n",
       "    </tr>\n",
       "    <tr>\n",
       "      <th>model5</th>\n",
       "      <td>1.0</td>\n",
       "      <td>0.928571</td>\n",
       "      <td>1.000000</td>\n",
       "      <td>1.0</td>\n",
       "      <td>1.000000</td>\n",
       "      <td>0.833333</td>\n",
       "      <td>1.0</td>\n",
       "      <td>0.962963</td>\n",
       "      <td>0.909091</td>\n",
       "    </tr>\n",
       "    <tr>\n",
       "      <th>model6</th>\n",
       "      <td>1.0</td>\n",
       "      <td>1.000000</td>\n",
       "      <td>0.857143</td>\n",
       "      <td>1.0</td>\n",
       "      <td>0.923077</td>\n",
       "      <td>1.000000</td>\n",
       "      <td>1.0</td>\n",
       "      <td>0.960000</td>\n",
       "      <td>0.923077</td>\n",
       "    </tr>\n",
       "  </tbody>\n",
       "</table>\n",
       "</div>"
      ],
      "text/plain": [
       "          0         1         2    0         1         2    0         1  \\\n",
       "model   1.0  1.000000  1.000000  1.0  1.000000  1.000000  1.0  1.000000   \n",
       "model1  1.0  0.928571  1.000000  1.0  1.000000  0.833333  1.0  0.962963   \n",
       "model2  1.0  1.000000  0.857143  1.0  0.923077  1.000000  1.0  0.960000   \n",
       "model3  1.0  1.000000  1.000000  1.0  1.000000  1.000000  1.0  1.000000   \n",
       "model4  1.0  0.928571  1.000000  1.0  1.000000  0.833333  1.0  0.962963   \n",
       "model5  1.0  0.928571  1.000000  1.0  1.000000  0.833333  1.0  0.962963   \n",
       "model6  1.0  1.000000  0.857143  1.0  0.923077  1.000000  1.0  0.960000   \n",
       "\n",
       "               2  \n",
       "model   1.000000  \n",
       "model1  0.909091  \n",
       "model2  0.923077  \n",
       "model3  1.000000  \n",
       "model4  0.909091  \n",
       "model5  0.909091  \n",
       "model6  0.923077  "
      ]
     },
     "execution_count": 40,
     "metadata": {},
     "output_type": "execute_result"
    }
   ],
   "source": [
    "scores = pd.concat([precision, recall, f1], axis=1)\n",
    "scores"
   ]
  },
  {
   "cell_type": "code",
   "execution_count": 42,
   "metadata": {},
   "outputs": [],
   "source": [
    "COLUMNS=pd.MultiIndex.from_product([['Precision', 'Recall', 'F1'], [0, 1, 2]],\n",
    "                                     names=['Score Type', 'Class'])\n",
    "scores.columns=COLUMNS"
   ]
  },
  {
   "cell_type": "code",
   "execution_count": 49,
   "metadata": {},
   "outputs": [
    {
     "data": {
      "text/html": [
       "<div>\n",
       "<style scoped>\n",
       "    .dataframe tbody tr th:only-of-type {\n",
       "        vertical-align: middle;\n",
       "    }\n",
       "\n",
       "    .dataframe tbody tr th {\n",
       "        vertical-align: top;\n",
       "    }\n",
       "\n",
       "    .dataframe thead tr th {\n",
       "        text-align: left;\n",
       "    }\n",
       "</style>\n",
       "<table border=\"1\" class=\"dataframe\">\n",
       "  <thead>\n",
       "    <tr>\n",
       "      <th>Score Type</th>\n",
       "      <th colspan=\"3\" halign=\"left\">Precision</th>\n",
       "      <th colspan=\"3\" halign=\"left\">Recall</th>\n",
       "      <th colspan=\"3\" halign=\"left\">F1</th>\n",
       "    </tr>\n",
       "    <tr>\n",
       "      <th>Class</th>\n",
       "      <th>0</th>\n",
       "      <th>1</th>\n",
       "      <th>2</th>\n",
       "      <th>0</th>\n",
       "      <th>1</th>\n",
       "      <th>2</th>\n",
       "      <th>0</th>\n",
       "      <th>1</th>\n",
       "      <th>2</th>\n",
       "    </tr>\n",
       "  </thead>\n",
       "  <tbody>\n",
       "    <tr>\n",
       "      <th>model</th>\n",
       "      <td>1.0</td>\n",
       "      <td>1.000000</td>\n",
       "      <td>1.000000</td>\n",
       "      <td>1.0</td>\n",
       "      <td>1.000000</td>\n",
       "      <td>1.000000</td>\n",
       "      <td>1.0</td>\n",
       "      <td>1.000000</td>\n",
       "      <td>1.000000</td>\n",
       "    </tr>\n",
       "    <tr>\n",
       "      <th>model1</th>\n",
       "      <td>1.0</td>\n",
       "      <td>0.928571</td>\n",
       "      <td>1.000000</td>\n",
       "      <td>1.0</td>\n",
       "      <td>1.000000</td>\n",
       "      <td>0.833333</td>\n",
       "      <td>1.0</td>\n",
       "      <td>0.962963</td>\n",
       "      <td>0.909091</td>\n",
       "    </tr>\n",
       "    <tr>\n",
       "      <th>model2</th>\n",
       "      <td>1.0</td>\n",
       "      <td>1.000000</td>\n",
       "      <td>0.857143</td>\n",
       "      <td>1.0</td>\n",
       "      <td>0.923077</td>\n",
       "      <td>1.000000</td>\n",
       "      <td>1.0</td>\n",
       "      <td>0.960000</td>\n",
       "      <td>0.923077</td>\n",
       "    </tr>\n",
       "    <tr>\n",
       "      <th>model3</th>\n",
       "      <td>1.0</td>\n",
       "      <td>1.000000</td>\n",
       "      <td>1.000000</td>\n",
       "      <td>1.0</td>\n",
       "      <td>1.000000</td>\n",
       "      <td>1.000000</td>\n",
       "      <td>1.0</td>\n",
       "      <td>1.000000</td>\n",
       "      <td>1.000000</td>\n",
       "    </tr>\n",
       "    <tr>\n",
       "      <th>model4</th>\n",
       "      <td>1.0</td>\n",
       "      <td>0.928571</td>\n",
       "      <td>1.000000</td>\n",
       "      <td>1.0</td>\n",
       "      <td>1.000000</td>\n",
       "      <td>0.833333</td>\n",
       "      <td>1.0</td>\n",
       "      <td>0.962963</td>\n",
       "      <td>0.909091</td>\n",
       "    </tr>\n",
       "    <tr>\n",
       "      <th>model5</th>\n",
       "      <td>1.0</td>\n",
       "      <td>0.928571</td>\n",
       "      <td>1.000000</td>\n",
       "      <td>1.0</td>\n",
       "      <td>1.000000</td>\n",
       "      <td>0.833333</td>\n",
       "      <td>1.0</td>\n",
       "      <td>0.962963</td>\n",
       "      <td>0.909091</td>\n",
       "    </tr>\n",
       "    <tr>\n",
       "      <th>model6</th>\n",
       "      <td>1.0</td>\n",
       "      <td>1.000000</td>\n",
       "      <td>0.857143</td>\n",
       "      <td>1.0</td>\n",
       "      <td>0.923077</td>\n",
       "      <td>1.000000</td>\n",
       "      <td>1.0</td>\n",
       "      <td>0.960000</td>\n",
       "      <td>0.923077</td>\n",
       "    </tr>\n",
       "  </tbody>\n",
       "</table>\n",
       "</div>"
      ],
      "text/plain": [
       "Score Type Precision                     Recall                       F1  \\\n",
       "Class              0         1         2      0         1         2    0   \n",
       "model            1.0  1.000000  1.000000    1.0  1.000000  1.000000  1.0   \n",
       "model1           1.0  0.928571  1.000000    1.0  1.000000  0.833333  1.0   \n",
       "model2           1.0  1.000000  0.857143    1.0  0.923077  1.000000  1.0   \n",
       "model3           1.0  1.000000  1.000000    1.0  1.000000  1.000000  1.0   \n",
       "model4           1.0  0.928571  1.000000    1.0  1.000000  0.833333  1.0   \n",
       "model5           1.0  0.928571  1.000000    1.0  1.000000  0.833333  1.0   \n",
       "model6           1.0  1.000000  0.857143    1.0  0.923077  1.000000  1.0   \n",
       "\n",
       "Score Type                      \n",
       "Class              1         2  \n",
       "model       1.000000  1.000000  \n",
       "model1      0.962963  0.909091  \n",
       "model2      0.960000  0.923077  \n",
       "model3      1.000000  1.000000  \n",
       "model4      0.962963  0.909091  \n",
       "model5      0.962963  0.909091  \n",
       "model6      0.960000  0.923077  "
      ]
     },
     "execution_count": 49,
     "metadata": {},
     "output_type": "execute_result"
    }
   ],
   "source": [
    "data=pd.DataFrame(data=scores)\n",
    "data"
   ]
  },
  {
   "cell_type": "code",
   "execution_count": 53,
   "metadata": {},
   "outputs": [
    {
     "data": {
      "text/html": [
       "<div>\n",
       "<style scoped>\n",
       "    .dataframe tbody tr th:only-of-type {\n",
       "        vertical-align: middle;\n",
       "    }\n",
       "\n",
       "    .dataframe tbody tr th {\n",
       "        vertical-align: top;\n",
       "    }\n",
       "\n",
       "    .dataframe thead th {\n",
       "        text-align: right;\n",
       "    }\n",
       "</style>\n",
       "<table border=\"1\" class=\"dataframe\">\n",
       "  <thead>\n",
       "    <tr style=\"text-align: right;\">\n",
       "      <th>Score Type</th>\n",
       "      <th>Precision</th>\n",
       "      <th>Recall</th>\n",
       "      <th>F1</th>\n",
       "    </tr>\n",
       "  </thead>\n",
       "  <tbody>\n",
       "    <tr>\n",
       "      <th>model</th>\n",
       "      <td>1.000000</td>\n",
       "      <td>1.000000</td>\n",
       "      <td>1.000000</td>\n",
       "    </tr>\n",
       "    <tr>\n",
       "      <th>model1</th>\n",
       "      <td>0.976190</td>\n",
       "      <td>0.944444</td>\n",
       "      <td>0.957351</td>\n",
       "    </tr>\n",
       "    <tr>\n",
       "      <th>model2</th>\n",
       "      <td>0.952381</td>\n",
       "      <td>0.974359</td>\n",
       "      <td>0.961026</td>\n",
       "    </tr>\n",
       "    <tr>\n",
       "      <th>model3</th>\n",
       "      <td>1.000000</td>\n",
       "      <td>1.000000</td>\n",
       "      <td>1.000000</td>\n",
       "    </tr>\n",
       "    <tr>\n",
       "      <th>model4</th>\n",
       "      <td>0.976190</td>\n",
       "      <td>0.944444</td>\n",
       "      <td>0.957351</td>\n",
       "    </tr>\n",
       "    <tr>\n",
       "      <th>model5</th>\n",
       "      <td>0.976190</td>\n",
       "      <td>0.944444</td>\n",
       "      <td>0.957351</td>\n",
       "    </tr>\n",
       "    <tr>\n",
       "      <th>model6</th>\n",
       "      <td>0.952381</td>\n",
       "      <td>0.974359</td>\n",
       "      <td>0.961026</td>\n",
       "    </tr>\n",
       "  </tbody>\n",
       "</table>\n",
       "</div>"
      ],
      "text/plain": [
       "Score Type  Precision    Recall        F1\n",
       "model        1.000000  1.000000  1.000000\n",
       "model1       0.976190  0.944444  0.957351\n",
       "model2       0.952381  0.974359  0.961026\n",
       "model3       1.000000  1.000000  1.000000\n",
       "model4       0.976190  0.944444  0.957351\n",
       "model5       0.976190  0.944444  0.957351\n",
       "model6       0.952381  0.974359  0.961026"
      ]
     },
     "execution_count": 53,
     "metadata": {},
     "output_type": "execute_result"
    }
   ],
   "source": [
    "scores.mean(axis=1, level=['Score Type']) #bu yapiyla ilginc hareketler yapabilirsin"
   ]
  },
  {
   "cell_type": "code",
   "execution_count": 57,
   "metadata": {},
   "outputs": [
    {
     "data": {
      "text/plain": [
       "[array([[11,  0,  0],\n",
       "        [ 0, 13,  0],\n",
       "        [ 0,  0,  6]], dtype=int64), array([[11,  0,  0],\n",
       "        [ 0, 13,  0],\n",
       "        [ 0,  1,  5]], dtype=int64), array([[11,  0,  0],\n",
       "        [ 0, 12,  1],\n",
       "        [ 0,  0,  6]], dtype=int64), array([[11,  0,  0],\n",
       "        [ 0, 13,  0],\n",
       "        [ 0,  0,  6]], dtype=int64), array([[11,  0,  0],\n",
       "        [ 0, 13,  0],\n",
       "        [ 0,  1,  5]], dtype=int64), array([[11,  0,  0],\n",
       "        [ 0, 13,  0],\n",
       "        [ 0,  1,  5]], dtype=int64), array([[11,  0,  0],\n",
       "        [ 0, 12,  1],\n",
       "        [ 0,  0,  6]], dtype=int64)]"
      ]
     },
     "execution_count": 57,
     "metadata": {},
     "output_type": "execute_result"
    }
   ],
   "source": [
    "confusion_matrixes=[confusion_matrix(y_test,i) for i in y_preds]\n",
    "confusion_matrixes"
   ]
  },
  {
   "cell_type": "code",
   "execution_count": 125,
   "metadata": {},
   "outputs": [
    {
     "data": {
      "text/plain": [
       "[array(['Iris-setosa'], dtype=object),\n",
       " array(['Iris-setosa'], dtype='<U15'),\n",
       " array(['Iris-setosa'], dtype=object),\n",
       " array(['Iris-setosa'], dtype=object),\n",
       " array(['Iris-setosa'], dtype=object),\n",
       " array(['Iris-setosa'], dtype=object),\n",
       " array(['Iris-setosa'], dtype=object)]"
      ]
     },
     "execution_count": 125,
     "metadata": {},
     "output_type": "execute_result"
    }
   ],
   "source": [
    "tahmin=[model.predict([[4.5,3.4,1.1,0.4]]) for model in model_list]\n",
    "tahmin"
   ]
  },
  {
   "cell_type": "code",
   "execution_count": 121,
   "metadata": {},
   "outputs": [
    {
     "name": "stdout",
     "output_type": "stream",
     "text": [
      "[0.975, 0.95, 0.95, 0.95, 0.9583333333333334, 0.9666666666666667, 0.9666666666666667, 0.9583333333333334, 0.9666666666666667, 0.9583333333333334, 0.975, 0.9583333333333334, 0.975, 0.9583333333333334, 0.9666666666666667, 0.9583333333333334, 0.9583333333333334, 0.95, 0.95, 0.95, 0.95, 0.9416666666666667, 0.95, 0.9416666666666667, 0.9333333333333333, 0.9416666666666667, 0.9416666666666667, 0.9416666666666667]\n",
      "[0.9666666666666667, 0.9666666666666667, 1.0, 0.9666666666666667, 1.0, 1.0, 1.0, 1.0, 1.0, 1.0, 1.0, 1.0, 1.0, 1.0, 1.0, 1.0, 1.0, 1.0, 1.0, 1.0, 1.0, 1.0, 1.0, 1.0, 0.9666666666666667, 0.9333333333333333, 0.9666666666666667, 0.9666666666666667]\n"
     ]
    },
    {
     "data": {
      "text/plain": [
       "<matplotlib.legend.Legend at 0x95734ac50>"
      ]
     },
     "execution_count": 121,
     "metadata": {},
     "output_type": "execute_result"
    },
    {
     "data": {
      "image/png": "[encoded data removed]",
      "text/plain": [
       "<Figure size 720x504 with 1 Axes>"
      ]
     },
     "metadata": {
      "needs_background": "light"
     },
     "output_type": "display_data"
    }
   ],
   "source": [
    "skor_train=[]\n",
    "skor_test=[]\n",
    "k_range=range(2,30)\n",
    "for k in k_range:\n",
    "    knn=KNeighborsClassifier(n_neighbors=k,)\n",
    "    knn.fit(X_train,y_train)\n",
    "    skor_train.append(knn.score(X_train,y_train))\n",
    "    skor_test.append(knn.score(X_test,y_test))\n",
    "print(skor_train)\n",
    "print(skor_test)\n",
    "plt.figure(figsize=(10,7))\n",
    "plt.plot(k_range,skor_train,label=\"Train\",color=\"red\")\n",
    "plt.plot(k_range,skor_test,label=\"Test\",color=\"blue\")\n",
    "plt.title(\"Train & Test Scores\")\n",
    "plt.xlabel(\"k\")\n",
    "plt.ylabel(\"skor\")\n",
    "plt.legend()"
   ]
  },
  {
   "cell_type": "code",
   "execution_count": 145,
   "metadata": {},
   "outputs": [
    {
     "data": {
      "text/plain": [
       "<matplotlib.collections.PathCollection at 0x958dd6e48>"
      ]
     },
     "execution_count": 145,
     "metadata": {},
     "output_type": "execute_result"
    },
    {
     "data": {
      "image/png": "[encoded data removed]",
      "text/plain": [
       "<Figure size 720x504 with 1 Axes>"
      ]
     },
     "metadata": {
      "needs_background": "light"
     },
     "output_type": "display_data"
    }
   ],
   "source": [
    "plt.figure(figsize=(10,7))\n",
    "plt.scatter(X.T[0],X.T[1],cmap=\"jet\")\n",
    "plt.scatter(X.T[0],X.T[2],cmap=\"jet\")\n",
    "plt.scatter(X.T[0],X.T[3],cmap=\"jet\")\n",
    "plt.scatter(X.T[1],X.T[2],cmap=\"jet\")\n",
    "plt.scatter(X.T[1],X.T[3],cmap=\"jet\")\n",
    "plt.scatter(X.T[2],X.T[3],cmap=\"jet\")\n"
   ]
  },
  {
   "cell_type": "code",
   "execution_count": 170,
   "metadata": {},
   "outputs": [],
   "source": [
    "from sklearn.preprocessing import LabelEncoder"
   ]
  },
  {
   "cell_type": "code",
   "execution_count": 142,
   "metadata": {},
   "outputs": [
    {
     "data": {
      "text/plain": [
       "<matplotlib.collections.PathCollection at 0x958bdbac8>"
      ]
     },
     "execution_count": 142,
     "metadata": {},
     "output_type": "execute_result"
    },
    {
     "data": {
      "image/png": "[encoded data removed]",
      "text/plain": [
       "<Figure size 432x288 with 1 Axes>"
      ]
     },
     "metadata": {
      "needs_background": "light"
     },
     "output_type": "display_data"
    }
   ],
   "source": [
    "plt.scatter(X.T[1],X.T[0])\n",
    "plt.scatter(X.T[0],X.T[1])"
   ]
  },
  {
   "cell_type": "code",
   "execution_count": 172,
   "metadata": {},
   "outputs": [
    {
     "data": {
      "text/plain": [
       "<matplotlib.collections.PathCollection at 0x95a45d7f0>"
      ]
     },
     "execution_count": 172,
     "metadata": {},
     "output_type": "execute_result"
    },
    {
     "data": {
      "image/png": "[encoded data removed]",
      "text/plain": [
       "<Figure size 432x288 with 1 Axes>"
      ]
     },
     "metadata": {
      "needs_background": "light"
     },
     "output_type": "display_data"
    }
   ],
   "source": [
    "plt.scatter(X.T.iloc[2,:],X.T.iloc[3,:],c=LabelEncoder().fit_transform(y))"
   ]
  },
  {
   "cell_type": "code",
   "execution_count": 173,
   "metadata": {},
   "outputs": [
    {
     "data": {
      "text/plain": [
       "<matplotlib.collections.PathCollection at 0x95a506438>"
      ]
     },
     "execution_count": 173,
     "metadata": {},
     "output_type": "execute_result"
    },
    {
     "data": {
      "image/png": "[encoded data removed]",
      "text/plain": [
       "<Figure size 432x288 with 1 Axes>"
      ]
     },
     "metadata": {
      "needs_background": "light"
     },
     "output_type": "display_data"
    }
   ],
   "source": [
    "plt.scatter(X.T.iloc[0,:],X.T.iloc[1,:])\n",
    "plt.scatter(X.T.iloc[0,:],X.T.iloc[2,:])\n",
    "plt.scatter(X.T.iloc[0,:],X.T.iloc[3,:])\n",
    "plt.scatter(X.T.iloc[1,:],X.T.iloc[2,:])\n",
    "plt.scatter(X.T.iloc[1,:],X.T.iloc[3,:])\n",
    "plt.scatter(X.T.iloc[2,:],X.T.iloc[3,:])"
   ]
  },
  {
   "cell_type": "code",
   "execution_count": 161,
   "metadata": {},
   "outputs": [
    {
     "data": {
      "text/plain": [
       "<matplotlib.collections.PathCollection at 0x958f6dcc0>"
      ]
     },
     "execution_count": 161,
     "metadata": {},
     "output_type": "execute_result"
    },
    {
     "data": {
      "image/png": "[encoded data removed]",
      "text/plain": [
       "<Figure size 432x288 with 1 Axes>"
      ]
     },
     "metadata": {
      "needs_background": "light"
     },
     "output_type": "display_data"
    }
   ],
   "source": [
    "plt.scatter(X.T.iloc[0],X.T.iloc[1],cmap=\"jet\")\n",
    "plt.scatter(X.T.iloc[0],X.T.iloc[2],cmap=\"jet\")\n",
    "plt.scatter(X.T.iloc[0],X.T.iloc[3],cmap=\"jet\")\n",
    "plt.scatter(X.T.iloc[1],X.T.iloc[2],cmap=\"jet\")\n",
    "plt.scatter(X.T.iloc[1],X.T.iloc[3],cmap=\"jet\")\n",
    "plt.scatter(X.T.iloc[2],X.T.iloc[3],cmap=\"jet\")"
   ]
  },
  {
   "cell_type": "code",
   "execution_count": 108,
   "metadata": {},
   "outputs": [
    {
     "data": {
      "text/plain": [
       "2"
      ]
     },
     "execution_count": 108,
     "metadata": {},
     "output_type": "execute_result"
    }
   ],
   "source": [
    "skor_test.index(max(skor_test))"
   ]
  },
  {
   "cell_type": "code",
   "execution_count": 109,
   "metadata": {},
   "outputs": [
    {
     "data": {
      "text/plain": [
       "1.0"
      ]
     },
     "execution_count": 109,
     "metadata": {},
     "output_type": "execute_result"
    }
   ],
   "source": [
    "skor_test[2]"
   ]
  },
  {
   "cell_type": "code",
   "execution_count": 164,
   "metadata": {},
   "outputs": [],
   "source": [
    "#cross_validationda amac su:tek bir train test setine gore degil,\n",
    "#datayi rastgele farkli farkli train test setlere bolup butun skorlarin ortalamasini almak"
   ]
  },
  {
   "cell_type": "code",
   "execution_count": 165,
   "metadata": {},
   "outputs": [],
   "source": [
    "from sklearn.model_selection import cross_validate"
   ]
  },
  {
   "cell_type": "code",
   "execution_count": 175,
   "metadata": {},
   "outputs": [
    {
     "data": {
      "text/plain": [
       "'AdaBoostClassifier'"
      ]
     },
     "execution_count": 175,
     "metadata": {},
     "output_type": "execute_result"
    }
   ],
   "source": [
    "#model5.__class__.__name__"
   ]
  },
  {
   "cell_type": "code",
   "execution_count": 178,
   "metadata": {},
   "outputs": [
    {
     "data": {
      "text/plain": [
       "['accuracy',\n",
       " 'adjusted_mutual_info_score',\n",
       " 'adjusted_rand_score',\n",
       " 'average_precision',\n",
       " 'balanced_accuracy',\n",
       " 'brier_score_loss',\n",
       " 'completeness_score',\n",
       " 'explained_variance',\n",
       " 'f1',\n",
       " 'f1_macro',\n",
       " 'f1_micro',\n",
       " 'f1_samples',\n",
       " 'f1_weighted',\n",
       " 'fowlkes_mallows_score',\n",
       " 'homogeneity_score',\n",
       " 'mutual_info_score',\n",
       " 'neg_log_loss',\n",
       " 'neg_mean_absolute_error',\n",
       " 'neg_mean_squared_error',\n",
       " 'neg_mean_squared_log_error',\n",
       " 'neg_median_absolute_error',\n",
       " 'normalized_mutual_info_score',\n",
       " 'precision',\n",
       " 'precision_macro',\n",
       " 'precision_micro',\n",
       " 'precision_samples',\n",
       " 'precision_weighted',\n",
       " 'r2',\n",
       " 'recall',\n",
       " 'recall_macro',\n",
       " 'recall_micro',\n",
       " 'recall_samples',\n",
       " 'recall_weighted',\n",
       " 'roc_auc',\n",
       " 'v_measure_score']"
      ]
     },
     "execution_count": 178,
     "metadata": {},
     "output_type": "execute_result"
    }
   ],
   "source": [
    "import sklearn\n",
    "sorted(sklearn.metrics.SCORERS.keys())"
   ]
  },
  {
   "cell_type": "code",
   "execution_count": 226,
   "metadata": {},
   "outputs": [
    {
     "name": "stderr",
     "output_type": "stream",
     "text": [
      "C:\\Users\\gold\\Anaconda3\\lib\\site-packages\\sklearn\\svm\\base.py:196: FutureWarning: The default value of gamma will change from 'auto' to 'scale' in version 0.22 to account better for unscaled features. Set gamma explicitly to 'auto' or 'scale' to avoid this warning.\n",
      "  \"avoid this warning.\", FutureWarning)\n",
      "C:\\Users\\gold\\Anaconda3\\lib\\site-packages\\sklearn\\svm\\base.py:196: FutureWarning: The default value of gamma will change from 'auto' to 'scale' in version 0.22 to account better for unscaled features. Set gamma explicitly to 'auto' or 'scale' to avoid this warning.\n",
      "  \"avoid this warning.\", FutureWarning)\n",
      "C:\\Users\\gold\\Anaconda3\\lib\\site-packages\\sklearn\\svm\\base.py:196: FutureWarning: The default value of gamma will change from 'auto' to 'scale' in version 0.22 to account better for unscaled features. Set gamma explicitly to 'auto' or 'scale' to avoid this warning.\n",
      "  \"avoid this warning.\", FutureWarning)\n",
      "C:\\Users\\gold\\Anaconda3\\lib\\site-packages\\sklearn\\svm\\base.py:196: FutureWarning: The default value of gamma will change from 'auto' to 'scale' in version 0.22 to account better for unscaled features. Set gamma explicitly to 'auto' or 'scale' to avoid this warning.\n",
      "  \"avoid this warning.\", FutureWarning)\n",
      "C:\\Users\\gold\\Anaconda3\\lib\\site-packages\\sklearn\\svm\\base.py:196: FutureWarning: The default value of gamma will change from 'auto' to 'scale' in version 0.22 to account better for unscaled features. Set gamma explicitly to 'auto' or 'scale' to avoid this warning.\n",
      "  \"avoid this warning.\", FutureWarning)\n",
      "C:\\Users\\gold\\Anaconda3\\lib\\site-packages\\sklearn\\svm\\base.py:196: FutureWarning: The default value of gamma will change from 'auto' to 'scale' in version 0.22 to account better for unscaled features. Set gamma explicitly to 'auto' or 'scale' to avoid this warning.\n",
      "  \"avoid this warning.\", FutureWarning)\n",
      "C:\\Users\\gold\\Anaconda3\\lib\\site-packages\\sklearn\\svm\\base.py:196: FutureWarning: The default value of gamma will change from 'auto' to 'scale' in version 0.22 to account better for unscaled features. Set gamma explicitly to 'auto' or 'scale' to avoid this warning.\n",
      "  \"avoid this warning.\", FutureWarning)\n",
      "C:\\Users\\gold\\Anaconda3\\lib\\site-packages\\sklearn\\svm\\base.py:196: FutureWarning: The default value of gamma will change from 'auto' to 'scale' in version 0.22 to account better for unscaled features. Set gamma explicitly to 'auto' or 'scale' to avoid this warning.\n",
      "  \"avoid this warning.\", FutureWarning)\n",
      "C:\\Users\\gold\\Anaconda3\\lib\\site-packages\\sklearn\\svm\\base.py:196: FutureWarning: The default value of gamma will change from 'auto' to 'scale' in version 0.22 to account better for unscaled features. Set gamma explicitly to 'auto' or 'scale' to avoid this warning.\n",
      "  \"avoid this warning.\", FutureWarning)\n",
      "C:\\Users\\gold\\Anaconda3\\lib\\site-packages\\sklearn\\svm\\base.py:196: FutureWarning: The default value of gamma will change from 'auto' to 'scale' in version 0.22 to account better for unscaled features. Set gamma explicitly to 'auto' or 'scale' to avoid this warning.\n",
      "  \"avoid this warning.\", FutureWarning)\n",
      "C:\\Users\\gold\\Anaconda3\\lib\\site-packages\\sklearn\\linear_model\\logistic.py:433: FutureWarning: Default solver will be changed to 'lbfgs' in 0.22. Specify a solver to silence this warning.\n",
      "  FutureWarning)\n",
      "C:\\Users\\gold\\Anaconda3\\lib\\site-packages\\sklearn\\linear_model\\logistic.py:460: FutureWarning: Default multi_class will be changed to 'auto' in 0.22. Specify the multi_class option to silence this warning.\n",
      "  \"this warning.\", FutureWarning)\n",
      "C:\\Users\\gold\\Anaconda3\\lib\\site-packages\\sklearn\\linear_model\\logistic.py:433: FutureWarning: Default solver will be changed to 'lbfgs' in 0.22. Specify a solver to silence this warning.\n",
      "  FutureWarning)\n",
      "C:\\Users\\gold\\Anaconda3\\lib\\site-packages\\sklearn\\linear_model\\logistic.py:460: FutureWarning: Default multi_class will be changed to 'auto' in 0.22. Specify the multi_class option to silence this warning.\n",
      "  \"this warning.\", FutureWarning)\n",
      "C:\\Users\\gold\\Anaconda3\\lib\\site-packages\\sklearn\\linear_model\\logistic.py:433: FutureWarning: Default solver will be changed to 'lbfgs' in 0.22. Specify a solver to silence this warning.\n",
      "  FutureWarning)\n",
      "C:\\Users\\gold\\Anaconda3\\lib\\site-packages\\sklearn\\linear_model\\logistic.py:460: FutureWarning: Default multi_class will be changed to 'auto' in 0.22. Specify the multi_class option to silence this warning.\n",
      "  \"this warning.\", FutureWarning)\n",
      "C:\\Users\\gold\\Anaconda3\\lib\\site-packages\\sklearn\\linear_model\\logistic.py:433: FutureWarning: Default solver will be changed to 'lbfgs' in 0.22. Specify a solver to silence this warning.\n",
      "  FutureWarning)\n",
      "C:\\Users\\gold\\Anaconda3\\lib\\site-packages\\sklearn\\linear_model\\logistic.py:460: FutureWarning: Default multi_class will be changed to 'auto' in 0.22. Specify the multi_class option to silence this warning.\n",
      "  \"this warning.\", FutureWarning)\n",
      "C:\\Users\\gold\\Anaconda3\\lib\\site-packages\\sklearn\\linear_model\\logistic.py:433: FutureWarning: Default solver will be changed to 'lbfgs' in 0.22. Specify a solver to silence this warning.\n",
      "  FutureWarning)\n",
      "C:\\Users\\gold\\Anaconda3\\lib\\site-packages\\sklearn\\linear_model\\logistic.py:460: FutureWarning: Default multi_class will be changed to 'auto' in 0.22. Specify the multi_class option to silence this warning.\n",
      "  \"this warning.\", FutureWarning)\n",
      "C:\\Users\\gold\\Anaconda3\\lib\\site-packages\\sklearn\\linear_model\\logistic.py:433: FutureWarning: Default solver will be changed to 'lbfgs' in 0.22. Specify a solver to silence this warning.\n",
      "  FutureWarning)\n",
      "C:\\Users\\gold\\Anaconda3\\lib\\site-packages\\sklearn\\linear_model\\logistic.py:460: FutureWarning: Default multi_class will be changed to 'auto' in 0.22. Specify the multi_class option to silence this warning.\n",
      "  \"this warning.\", FutureWarning)\n",
      "C:\\Users\\gold\\Anaconda3\\lib\\site-packages\\sklearn\\linear_model\\logistic.py:433: FutureWarning: Default solver will be changed to 'lbfgs' in 0.22. Specify a solver to silence this warning.\n",
      "  FutureWarning)\n",
      "C:\\Users\\gold\\Anaconda3\\lib\\site-packages\\sklearn\\linear_model\\logistic.py:460: FutureWarning: Default multi_class will be changed to 'auto' in 0.22. Specify the multi_class option to silence this warning.\n",
      "  \"this warning.\", FutureWarning)\n",
      "C:\\Users\\gold\\Anaconda3\\lib\\site-packages\\sklearn\\linear_model\\logistic.py:433: FutureWarning: Default solver will be changed to 'lbfgs' in 0.22. Specify a solver to silence this warning.\n",
      "  FutureWarning)\n",
      "C:\\Users\\gold\\Anaconda3\\lib\\site-packages\\sklearn\\linear_model\\logistic.py:460: FutureWarning: Default multi_class will be changed to 'auto' in 0.22. Specify the multi_class option to silence this warning.\n",
      "  \"this warning.\", FutureWarning)\n",
      "C:\\Users\\gold\\Anaconda3\\lib\\site-packages\\sklearn\\linear_model\\logistic.py:433: FutureWarning: Default solver will be changed to 'lbfgs' in 0.22. Specify a solver to silence this warning.\n",
      "  FutureWarning)\n",
      "C:\\Users\\gold\\Anaconda3\\lib\\site-packages\\sklearn\\linear_model\\logistic.py:460: FutureWarning: Default multi_class will be changed to 'auto' in 0.22. Specify the multi_class option to silence this warning.\n",
      "  \"this warning.\", FutureWarning)\n",
      "C:\\Users\\gold\\Anaconda3\\lib\\site-packages\\sklearn\\linear_model\\logistic.py:433: FutureWarning: Default solver will be changed to 'lbfgs' in 0.22. Specify a solver to silence this warning.\n",
      "  FutureWarning)\n",
      "C:\\Users\\gold\\Anaconda3\\lib\\site-packages\\sklearn\\linear_model\\logistic.py:460: FutureWarning: Default multi_class will be changed to 'auto' in 0.22. Specify the multi_class option to silence this warning.\n",
      "  \"this warning.\", FutureWarning)\n",
      "C:\\Users\\gold\\Anaconda3\\lib\\site-packages\\sklearn\\utils\\deprecation.py:125: FutureWarning: You are accessing a training score ('train_accuracy'), which will not be available by default any more in 0.21. If you need training scores, please set return_train_score=True\n",
      "  warnings.warn(*warn_args, **warn_kwargs)\n"
     ]
    },
    {
     "data": {
      "text/plain": [
       "{'SVC': {'fit_time': array([0.00500202, 0.00500178, 0.0060041 , 0.00500274, 0.00500393,\n",
       "         0.00500131, 0.00400305, 0.00500202, 0.00500369, 0.00600052]),\n",
       "  'score_time': array([0.00200224, 0.00200272, 0.00400019, 0.00100088, 0.00300121,\n",
       "         0.00200176, 0.00200057, 0.00200176, 0.00100064, 0.00200176]),\n",
       "  'test_accuracy': array([0.92307692, 1.        , 0.92307692, 1.        , 1.        ,\n",
       "         1.        , 1.        , 0.81818182, 1.        , 0.9       ]),\n",
       "  'train_accuracy': array([0.98130841, 0.97196262, 0.98130841, 0.98130841, 0.96296296,\n",
       "         0.97222222, 0.97222222, 0.99082569, 0.97247706, 0.97272727])},\n",
       " 'GaussianNB': {'fit_time': array([0.00500393, 0.00500298, 0.00200081, 0.0050056 , 0.004004  ,\n",
       "         0.00500464, 0.00300145, 0.00200152, 0.00400448, 0.00300169]),\n",
       "  'score_time': array([0.00300097, 0.00199962, 0.00200224, 0.00199938, 0.00200057,\n",
       "         0.00300241, 0.00100088, 0.00200081, 0.00099969, 0.00099969]),\n",
       "  'test_accuracy': array([1.        , 0.92307692, 0.84615385, 1.        , 0.91666667,\n",
       "         1.        , 1.        , 0.90909091, 1.        , 0.9       ]),\n",
       "  'train_accuracy': array([0.94392523, 0.96261682, 0.96261682, 0.94392523, 0.9537037 ,\n",
       "         0.94444444, 0.94444444, 0.94495413, 0.94495413, 0.95454545])},\n",
       " 'KNeighborsClassifier': {'fit_time': array([0.0030005 , 0.00500393, 0.00500345, 0.00300264, 0.00200129,\n",
       "         0.00300241, 0.00500417, 0.00900936, 0.00300217, 0.00200081]),\n",
       "  'score_time': array([0.00300217, 0.00400352, 0.00400162, 0.00299978, 0.00300217,\n",
       "         0.00300121, 0.00300193, 0.0049994 , 0.00200081, 0.00300217]),\n",
       "  'test_accuracy': array([0.92307692, 0.92307692, 0.84615385, 1.        , 0.91666667,\n",
       "         1.        , 1.        , 0.81818182, 1.        , 0.9       ]),\n",
       "  'train_accuracy': array([0.97196262, 0.95327103, 0.96261682, 0.95327103, 0.9537037 ,\n",
       "         0.94444444, 0.94444444, 0.97247706, 0.94495413, 0.94545455])},\n",
       " 'DecisionTreeClassifier': {'fit_time': array([0.00300121, 0.00400305, 0.00500274, 0.00200081, 0.00400376,\n",
       "         0.00300193, 0.00300288, 0.00300217, 0.00200152, 0.00300193]),\n",
       "  'score_time': array([0.0010004 , 0.00200057, 0.00099993, 0.0010004 , 0.00099993,\n",
       "         0.00200152, 0.00300336, 0.00200105, 0.00200152, 0.00200129]),\n",
       "  'test_accuracy': array([0.92307692, 0.92307692, 0.84615385, 1.        , 1.        ,\n",
       "         1.        , 0.83333333, 0.72727273, 1.        , 0.9       ]),\n",
       "  'train_accuracy': array([1., 1., 1., 1., 1., 1., 1., 1., 1., 1.])},\n",
       " 'RandomForestClassifier': {'fit_time': array([0.01500893, 0.01300883, 0.01200747, 0.01400757, 0.01901412,\n",
       "         0.01901293, 0.01100397, 0.01400733, 0.01500964, 0.01400781]),\n",
       "  'score_time': array([0.00300217, 0.00300145, 0.00700617, 0.00200152, 0.0060041 ,\n",
       "         0.00300074, 0.00500369, 0.00300241, 0.002002  , 0.00300241]),\n",
       "  'test_accuracy': array([0.92307692, 0.92307692, 0.92307692, 1.        , 1.        ,\n",
       "         1.        , 0.91666667, 0.72727273, 1.        , 0.9       ]),\n",
       "  'train_accuracy': array([0.98130841, 0.99065421, 1.        , 1.        , 1.        ,\n",
       "         0.98148148, 1.        , 0.97247706, 0.99082569, 1.        ])},\n",
       " 'AdaBoostClassifier': {'fit_time': array([0.07805157, 0.08306384, 0.08305645, 0.06904554, 0.13108659,\n",
       "         0.07805085, 0.10006595, 0.08005214, 0.08405614, 0.09006047]),\n",
       "  'score_time': array([0.00700378, 0.01500201, 0.01200676, 0.01100683, 0.01200795,\n",
       "         0.00900459, 0.00800443, 0.01501107, 0.0080049 , 0.00700355]),\n",
       "  'test_accuracy': array([0.84615385, 0.92307692, 0.84615385, 1.        , 1.        ,\n",
       "         1.        , 0.91666667, 0.81818182, 1.        , 0.9       ]),\n",
       "  'train_accuracy': array([0.96261682, 0.93457944, 0.97196262, 0.95327103, 0.9537037 ,\n",
       "         0.9537037 , 0.9537037 , 0.96330275, 0.95412844, 0.96363636])},\n",
       " 'LogisticRegression': {'fit_time': array([0.00400233, 0.00300264, 0.00600505, 0.00500393, 0.00300264,\n",
       "         0.00800419, 0.00400138, 0.00400162, 0.00300169, 0.00400281]),\n",
       "  'score_time': array([0.00100064, 0.002002  , 0.00099993, 0.0010004 , 0.0010004 ,\n",
       "         0.00200295, 0.00100112, 0.0010016 , 0.00200105, 0.0020051 ]),\n",
       "  'test_accuracy': array([0.76923077, 0.92307692, 0.92307692, 1.        , 1.        ,\n",
       "         1.        , 1.        , 0.81818182, 1.        , 0.9       ]),\n",
       "  'train_accuracy': array([0.94392523, 0.94392523, 0.93457944, 0.92523364, 0.92592593,\n",
       "         0.93518519, 0.92592593, 0.96330275, 0.9266055 , 0.93636364])}}"
      ]
     },
     "execution_count": 226,
     "metadata": {},
     "output_type": "execute_result"
    }
   ],
   "source": [
    "results = {}\n",
    "for model in model_list:\n",
    "    results[model.__class__.__name__]=cross_validate(model,X_train,y_train,cv=10,\n",
    "                                                      scoring=['accuracy'])\n",
    "results"
   ]
  },
  {
   "cell_type": "code",
   "execution_count": 227,
   "metadata": {},
   "outputs": [],
   "source": [
    "import numpy as np\n",
    "results_df=pd.DataFrame(results).apply(lambda x:x.apply(np.mean))"
   ]
  },
  {
   "cell_type": "code",
   "execution_count": 228,
   "metadata": {},
   "outputs": [
    {
     "data": {
      "text/html": [
       "<div>\n",
       "<style scoped>\n",
       "    .dataframe tbody tr th:only-of-type {\n",
       "        vertical-align: middle;\n",
       "    }\n",
       "\n",
       "    .dataframe tbody tr th {\n",
       "        vertical-align: top;\n",
       "    }\n",
       "\n",
       "    .dataframe thead th {\n",
       "        text-align: right;\n",
       "    }\n",
       "</style>\n",
       "<table border=\"1\" class=\"dataframe\">\n",
       "  <thead>\n",
       "    <tr style=\"text-align: right;\">\n",
       "      <th></th>\n",
       "      <th>SVC</th>\n",
       "      <th>GaussianNB</th>\n",
       "      <th>KNeighborsClassifier</th>\n",
       "      <th>DecisionTreeClassifier</th>\n",
       "      <th>RandomForestClassifier</th>\n",
       "      <th>AdaBoostClassifier</th>\n",
       "      <th>LogisticRegression</th>\n",
       "    </tr>\n",
       "  </thead>\n",
       "  <tbody>\n",
       "    <tr>\n",
       "      <th>fit_time</th>\n",
       "      <td>0.005103</td>\n",
       "      <td>0.003803</td>\n",
       "      <td>0.004003</td>\n",
       "      <td>0.003202</td>\n",
       "      <td>0.014609</td>\n",
       "      <td>0.087659</td>\n",
       "      <td>0.004403</td>\n",
       "    </tr>\n",
       "    <tr>\n",
       "      <th>score_time</th>\n",
       "      <td>0.002101</td>\n",
       "      <td>0.001901</td>\n",
       "      <td>0.003301</td>\n",
       "      <td>0.001701</td>\n",
       "      <td>0.003703</td>\n",
       "      <td>0.010406</td>\n",
       "      <td>0.001402</td>\n",
       "    </tr>\n",
       "    <tr>\n",
       "      <th>test_accuracy</th>\n",
       "      <td>0.956434</td>\n",
       "      <td>0.949499</td>\n",
       "      <td>0.932716</td>\n",
       "      <td>0.915291</td>\n",
       "      <td>0.931317</td>\n",
       "      <td>0.925023</td>\n",
       "      <td>0.933357</td>\n",
       "    </tr>\n",
       "    <tr>\n",
       "      <th>train_accuracy</th>\n",
       "      <td>0.975933</td>\n",
       "      <td>0.950013</td>\n",
       "      <td>0.954660</td>\n",
       "      <td>1.000000</td>\n",
       "      <td>0.991675</td>\n",
       "      <td>0.956461</td>\n",
       "      <td>0.936097</td>\n",
       "    </tr>\n",
       "  </tbody>\n",
       "</table>\n",
       "</div>"
      ],
      "text/plain": [
       "                     SVC  GaussianNB  KNeighborsClassifier  \\\n",
       "fit_time        0.005103    0.003803              0.004003   \n",
       "score_time      0.002101    0.001901              0.003301   \n",
       "test_accuracy   0.956434    0.949499              0.932716   \n",
       "train_accuracy  0.975933    0.950013              0.954660   \n",
       "\n",
       "                DecisionTreeClassifier  RandomForestClassifier  \\\n",
       "fit_time                      0.003202                0.014609   \n",
       "score_time                    0.001701                0.003703   \n",
       "test_accuracy                 0.915291                0.931317   \n",
       "train_accuracy                1.000000                0.991675   \n",
       "\n",
       "                AdaBoostClassifier  LogisticRegression  \n",
       "fit_time                  0.087659            0.004403  \n",
       "score_time                0.010406            0.001402  \n",
       "test_accuracy             0.925023            0.933357  \n",
       "train_accuracy            0.956461            0.936097  "
      ]
     },
     "execution_count": 228,
     "metadata": {},
     "output_type": "execute_result"
    }
   ],
   "source": [
    "results_df"
   ]
  },
  {
   "cell_type": "code",
   "execution_count": 229,
   "metadata": {},
   "outputs": [],
   "source": [
    "results_df=results_df.rename({\"test_accuracy\":\"validation_accuracy\"},axis=0)"
   ]
  },
  {
   "cell_type": "code",
   "execution_count": 230,
   "metadata": {},
   "outputs": [
    {
     "data": {
      "text/plain": [
       "'SVC'"
      ]
     },
     "execution_count": 230,
     "metadata": {},
     "output_type": "execute_result"
    }
   ],
   "source": [
    "results_df.loc[\"validation_accuracy\"].idxmax()"
   ]
  },
  {
   "cell_type": "code",
   "execution_count": 231,
   "metadata": {},
   "outputs": [
    {
     "data": {
      "text/plain": [
       "'DecisionTreeClassifier'"
      ]
     },
     "execution_count": 231,
     "metadata": {},
     "output_type": "execute_result"
    }
   ],
   "source": [
    "results_df.loc[\"fit_time\"].idxmin()"
   ]
  },
  {
   "cell_type": "code",
   "execution_count": 232,
   "metadata": {},
   "outputs": [
    {
     "data": {
      "text/plain": [
       "<matplotlib.axes._subplots.AxesSubplot at 0x95a804198>"
      ]
     },
     "execution_count": 232,
     "metadata": {},
     "output_type": "execute_result"
    },
    {
     "data": {
      "text/plain": [
       "<Figure size 864x576 with 0 Axes>"
      ]
     },
     "metadata": {},
     "output_type": "display_data"
    },
    {
     "data": {
      "image/png": "[encoded data removed]",
      "text/plain": [
       "<Figure size 864x576 with 1 Axes>"
      ]
     },
     "metadata": {
      "needs_background": "light"
     },
     "output_type": "display_data"
    }
   ],
   "source": [
    "plt.figure(figsize=(12,8))\n",
    "results_df.loc[[\"validation_accuracy\",\"train_accuracy\"]].T.plot(kind=\"barh\",figsize=(12,8))"
   ]
  },
  {
   "cell_type": "code",
   "execution_count": 233,
   "metadata": {},
   "outputs": [
    {
     "name": "stderr",
     "output_type": "stream",
     "text": [
      "C:\\Users\\gold\\Anaconda3\\lib\\site-packages\\sklearn\\svm\\base.py:196: FutureWarning: The default value of gamma will change from 'auto' to 'scale' in version 0.22 to account better for unscaled features. Set gamma explicitly to 'auto' or 'scale' to avoid this warning.\n",
      "  \"avoid this warning.\", FutureWarning)\n",
      "C:\\Users\\gold\\Anaconda3\\lib\\site-packages\\sklearn\\linear_model\\logistic.py:433: FutureWarning: Default solver will be changed to 'lbfgs' in 0.22. Specify a solver to silence this warning.\n",
      "  FutureWarning)\n",
      "C:\\Users\\gold\\Anaconda3\\lib\\site-packages\\sklearn\\linear_model\\logistic.py:460: FutureWarning: Default multi_class will be changed to 'auto' in 0.22. Specify the multi_class option to silence this warning.\n",
      "  \"this warning.\", FutureWarning)\n"
     ]
    },
    {
     "data": {
      "text/plain": [
       "{'SVC': 1.0,\n",
       " 'GaussianNB': 0.9666666666666667,\n",
       " 'KNeighborsClassifier': 0.9666666666666667,\n",
       " 'DecisionTreeClassifier': 1.0,\n",
       " 'RandomForestClassifier': 0.9666666666666667,\n",
       " 'AdaBoostClassifier': 0.9666666666666667,\n",
       " 'LogisticRegression': 0.9666666666666667}"
      ]
     },
     "execution_count": 233,
     "metadata": {},
     "output_type": "execute_result"
    }
   ],
   "source": [
    "results_test_scores={}\n",
    "for model in model_list:\n",
    "    model.fit(X_train,y_train)\n",
    "    results_test_scores[model.__class__.__name__]=model.score(X_test,y_test)\n",
    "results_test_scores"
   ]
  },
  {
   "cell_type": "code",
   "execution_count": 234,
   "metadata": {},
   "outputs": [
    {
     "data": {
      "text/html": [
       "<div>\n",
       "<style scoped>\n",
       "    .dataframe tbody tr th:only-of-type {\n",
       "        vertical-align: middle;\n",
       "    }\n",
       "\n",
       "    .dataframe tbody tr th {\n",
       "        vertical-align: top;\n",
       "    }\n",
       "\n",
       "    .dataframe thead th {\n",
       "        text-align: right;\n",
       "    }\n",
       "</style>\n",
       "<table border=\"1\" class=\"dataframe\">\n",
       "  <thead>\n",
       "    <tr style=\"text-align: right;\">\n",
       "      <th></th>\n",
       "      <th>SVC</th>\n",
       "      <th>GaussianNB</th>\n",
       "      <th>KNeighborsClassifier</th>\n",
       "      <th>DecisionTreeClassifier</th>\n",
       "      <th>RandomForestClassifier</th>\n",
       "      <th>AdaBoostClassifier</th>\n",
       "      <th>LogisticRegression</th>\n",
       "    </tr>\n",
       "  </thead>\n",
       "  <tbody>\n",
       "    <tr>\n",
       "      <th>fit_time</th>\n",
       "      <td>0.005103</td>\n",
       "      <td>0.003803</td>\n",
       "      <td>0.004003</td>\n",
       "      <td>0.003202</td>\n",
       "      <td>0.014609</td>\n",
       "      <td>0.087659</td>\n",
       "      <td>0.004403</td>\n",
       "    </tr>\n",
       "    <tr>\n",
       "      <th>score_time</th>\n",
       "      <td>0.002101</td>\n",
       "      <td>0.001901</td>\n",
       "      <td>0.003301</td>\n",
       "      <td>0.001701</td>\n",
       "      <td>0.003703</td>\n",
       "      <td>0.010406</td>\n",
       "      <td>0.001402</td>\n",
       "    </tr>\n",
       "    <tr>\n",
       "      <th>validation_accuracy</th>\n",
       "      <td>0.956434</td>\n",
       "      <td>0.949499</td>\n",
       "      <td>0.932716</td>\n",
       "      <td>0.915291</td>\n",
       "      <td>0.931317</td>\n",
       "      <td>0.925023</td>\n",
       "      <td>0.933357</td>\n",
       "    </tr>\n",
       "    <tr>\n",
       "      <th>train_accuracy</th>\n",
       "      <td>0.975933</td>\n",
       "      <td>0.950013</td>\n",
       "      <td>0.954660</td>\n",
       "      <td>1.000000</td>\n",
       "      <td>0.991675</td>\n",
       "      <td>0.956461</td>\n",
       "      <td>0.936097</td>\n",
       "    </tr>\n",
       "    <tr>\n",
       "      <th>test_accuracy</th>\n",
       "      <td>1.000000</td>\n",
       "      <td>0.966667</td>\n",
       "      <td>0.966667</td>\n",
       "      <td>1.000000</td>\n",
       "      <td>0.966667</td>\n",
       "      <td>0.966667</td>\n",
       "      <td>0.966667</td>\n",
       "    </tr>\n",
       "  </tbody>\n",
       "</table>\n",
       "</div>"
      ],
      "text/plain": [
       "                          SVC  GaussianNB  KNeighborsClassifier  \\\n",
       "fit_time             0.005103    0.003803              0.004003   \n",
       "score_time           0.002101    0.001901              0.003301   \n",
       "validation_accuracy  0.956434    0.949499              0.932716   \n",
       "train_accuracy       0.975933    0.950013              0.954660   \n",
       "test_accuracy        1.000000    0.966667              0.966667   \n",
       "\n",
       "                     DecisionTreeClassifier  RandomForestClassifier  \\\n",
       "fit_time                           0.003202                0.014609   \n",
       "score_time                         0.001701                0.003703   \n",
       "validation_accuracy                0.915291                0.931317   \n",
       "train_accuracy                     1.000000                0.991675   \n",
       "test_accuracy                      1.000000                0.966667   \n",
       "\n",
       "                     AdaBoostClassifier  LogisticRegression  \n",
       "fit_time                       0.087659            0.004403  \n",
       "score_time                     0.010406            0.001402  \n",
       "validation_accuracy            0.925023            0.933357  \n",
       "train_accuracy                 0.956461            0.936097  \n",
       "test_accuracy                  0.966667            0.966667  "
      ]
     },
     "execution_count": 234,
     "metadata": {},
     "output_type": "execute_result"
    }
   ],
   "source": [
    "results_df.append(pd.Series(results_test_scores).rename(\"test_accuracy\"))"
   ]
  },
  {
   "cell_type": "code",
   "execution_count": 235,
   "metadata": {},
   "outputs": [
    {
     "data": {
      "text/plain": [
       "{0: 'SVC',\n",
       " 1: 'GaussianNB',\n",
       " 2: 'KNeighborsClassifier',\n",
       " 3: 'DecisionTreeClassifier',\n",
       " 4: 'RandomForestClassifier',\n",
       " 5: 'AdaBoostClassifier',\n",
       " 6: 'LogisticRegression'}"
      ]
     },
     "execution_count": 235,
     "metadata": {},
     "output_type": "execute_result"
    }
   ],
   "source": [
    "{i: model.__class__.__name__ for i,model in enumerate(model_list)}\n"
   ]
  },
  {
   "cell_type": "code",
   "execution_count": 239,
   "metadata": {},
   "outputs": [
    {
     "data": {
      "text/plain": [
       "SVC(C=1.0, cache_size=200, class_weight=None, coef0=0.0,\n",
       "  decision_function_shape='ovr', degree=3, gamma='auto_deprecated',\n",
       "  kernel='linear', max_iter=-1, probability=True, random_state=None,\n",
       "  shrinking=True, tol=0.001, verbose=False)"
      ]
     },
     "execution_count": 239,
     "metadata": {},
     "output_type": "execute_result"
    }
   ],
   "source": [
    "model_SVC=SVC(kernel=\"linear\",probability=True)\n",
    "model_SVC.fit(X_train,y_train)"
   ]
  },
  {
   "cell_type": "code",
   "execution_count": 240,
   "metadata": {
    "collapsed": true
   },
   "outputs": [
    {
     "data": {
      "text/plain": [
       "array([[1.04365727e-02, 7.87983257e-02, 9.10765102e-01],\n",
       "       [1.37893825e-02, 7.92344048e-01, 1.93866569e-01],\n",
       "       [9.64560770e-01, 2.32587834e-02, 1.21804467e-02],\n",
       "       [1.67846953e-02, 3.71372168e-01, 6.11843136e-01],\n",
       "       [6.48013774e-03, 6.51352164e-03, 9.87006341e-01],\n",
       "       [1.83172260e-02, 9.51646092e-01, 3.00366816e-02],\n",
       "       [9.55545351e-01, 2.98599345e-02, 1.45947142e-02],\n",
       "       [1.50594980e-02, 2.18378020e-01, 7.66562482e-01],\n",
       "       [1.13310320e-02, 9.56044616e-01, 3.26243522e-02],\n",
       "       [1.39284363e-02, 9.74013343e-01, 1.20582203e-02],\n",
       "       [9.22463925e-03, 3.66390580e-02, 9.54136303e-01],\n",
       "       [9.69136884e-01, 2.00453859e-02, 1.08177297e-02],\n",
       "       [1.40904366e-02, 1.15527242e-01, 8.70382321e-01],\n",
       "       [9.40973642e-01, 4.06953389e-02, 1.83310193e-02],\n",
       "       [9.70149641e-01, 1.88977634e-02, 1.09525956e-02],\n",
       "       [2.86808649e-02, 9.60596614e-01, 1.07225212e-02],\n",
       "       [1.01266097e-02, 7.57829472e-02, 9.14090443e-01],\n",
       "       [5.86770642e-03, 5.00034830e-03, 9.89131945e-01],\n",
       "       [1.53384603e-02, 2.01432811e-01, 7.83228729e-01],\n",
       "       [5.58973943e-03, 1.19234661e-02, 9.82486794e-01],\n",
       "       [1.72402552e-02, 9.72857780e-01, 9.90196509e-03],\n",
       "       [3.50704534e-03, 4.80539049e-03, 9.91687564e-01],\n",
       "       [8.16451764e-03, 8.73504881e-01, 1.18330602e-01],\n",
       "       [1.94888650e-02, 9.70726335e-01, 9.78479966e-03],\n",
       "       [1.63659632e-02, 3.11195733e-01, 6.72438303e-01],\n",
       "       [1.27606657e-02, 4.34429728e-01, 5.52809606e-01],\n",
       "       [2.70782767e-02, 2.55288179e-01, 7.17633544e-01],\n",
       "       [1.52780276e-02, 1.20730391e-01, 8.63991581e-01],\n",
       "       [4.74087296e-03, 9.68964266e-01, 2.62948614e-02],\n",
       "       [1.34725742e-02, 1.16870139e-01, 8.69657287e-01],\n",
       "       [9.68657492e-03, 9.22223447e-01, 6.80899780e-02],\n",
       "       [9.41022702e-01, 4.18222163e-02, 1.71550820e-02],\n",
       "       [1.50899594e-02, 5.97234903e-02, 9.25186550e-01],\n",
       "       [1.06843151e-02, 9.50565961e-01, 3.87497243e-02],\n",
       "       [4.38600714e-02, 9.44533087e-01, 1.16068416e-02],\n",
       "       [1.28178782e-02, 9.58668237e-01, 2.85138852e-02],\n",
       "       [7.56349892e-03, 9.08442813e-01, 8.39936883e-02],\n",
       "       [6.09684960e-03, 3.69021207e-02, 9.57001030e-01],\n",
       "       [9.70204711e-01, 1.87180231e-02, 1.10772663e-02],\n",
       "       [9.77426149e-01, 1.40523589e-02, 8.52149253e-03],\n",
       "       [1.20929249e-02, 5.99479053e-02, 9.27959170e-01],\n",
       "       [1.41029624e-02, 9.71090853e-01, 1.48061848e-02],\n",
       "       [9.42241407e-01, 4.11332952e-02, 1.66252979e-02],\n",
       "       [9.80289104e-01, 1.07689999e-02, 8.94189581e-03],\n",
       "       [5.59193116e-03, 8.79135654e-01, 1.15272415e-01],\n",
       "       [9.50155827e-01, 3.45032801e-02, 1.53408926e-02],\n",
       "       [1.59855652e-02, 1.59904132e-01, 8.24110302e-01],\n",
       "       [1.40418697e-01, 8.30318827e-01, 2.92624764e-02],\n",
       "       [9.65678255e-01, 2.18482750e-02, 1.24734699e-02],\n",
       "       [1.16954707e-02, 7.35146079e-01, 2.53158451e-01],\n",
       "       [3.79757920e-03, 3.23368988e-03, 9.92968731e-01],\n",
       "       [1.20750353e-02, 9.63651291e-01, 2.42736736e-02],\n",
       "       [9.58762002e-01, 2.85812701e-02, 1.26567278e-02],\n",
       "       [5.11568475e-03, 1.05531755e-02, 9.84331140e-01],\n",
       "       [6.53050143e-03, 1.21342610e-02, 9.81335238e-01],\n",
       "       [5.24856350e-03, 4.64675993e-03, 9.90104677e-01],\n",
       "       [6.91310958e-03, 9.65645938e-03, 9.83430431e-01],\n",
       "       [9.66917730e-01, 2.04499916e-02, 1.26322787e-02],\n",
       "       [9.53373992e-01, 3.12267554e-02, 1.53992531e-02],\n",
       "       [1.50899326e-02, 2.26486910e-01, 7.58423158e-01],\n",
       "       [7.62166816e-03, 2.39933595e-02, 9.68384972e-01],\n",
       "       [9.26394670e-01, 5.69072111e-02, 1.66981190e-02],\n",
       "       [1.04612265e-02, 2.29698827e-02, 9.66568891e-01],\n",
       "       [9.54736656e-01, 3.19368743e-02, 1.33264698e-02],\n",
       "       [1.48993960e-02, 3.78805111e-02, 9.47220093e-01],\n",
       "       [1.05914068e-02, 7.48795458e-02, 9.14529047e-01],\n",
       "       [9.69331521e-01, 1.94767424e-02, 1.11917367e-02],\n",
       "       [9.73389891e-01, 1.63360388e-02, 1.02740706e-02],\n",
       "       [7.47462692e-03, 1.21399816e-01, 8.71125557e-01],\n",
       "       [9.68234978e-01, 2.04605046e-02, 1.13045175e-02],\n",
       "       [9.63401998e-01, 2.44336172e-02, 1.21643848e-02],\n",
       "       [9.55858753e-01, 2.86971462e-02, 1.54441011e-02],\n",
       "       [1.11954379e-02, 9.48936102e-01, 3.98684600e-02],\n",
       "       [4.74637099e-03, 4.52566006e-03, 9.90727969e-01],\n",
       "       [1.81272193e-03, 1.09962494e-03, 9.97087653e-01],\n",
       "       [9.70924906e-01, 1.84770741e-02, 1.05980200e-02],\n",
       "       [9.53978013e-01, 3.20947005e-02, 1.39272865e-02],\n",
       "       [9.68172917e-01, 2.08987108e-02, 1.09283724e-02],\n",
       "       [8.88820991e-03, 8.97773456e-01, 9.33383344e-02],\n",
       "       [7.11903697e-03, 9.73611902e-01, 1.92690611e-02],\n",
       "       [9.74467172e-01, 1.65467921e-02, 8.98603553e-03],\n",
       "       [9.21731919e-01, 5.70898512e-02, 2.11782294e-02],\n",
       "       [8.63508278e-03, 9.77291125e-01, 1.40737924e-02],\n",
       "       [9.53403172e-01, 3.25215452e-02, 1.40752828e-02],\n",
       "       [3.41102577e-06, 4.08449581e-06, 9.99992504e-01],\n",
       "       [7.28562683e-02, 9.09622731e-01, 1.75210005e-02],\n",
       "       [4.02563166e-03, 2.53603825e-02, 9.70613986e-01],\n",
       "       [7.57812090e-03, 9.78171648e-01, 1.42502307e-02],\n",
       "       [9.80530582e-01, 1.06253746e-02, 8.84404351e-03],\n",
       "       [1.73582833e-02, 4.38727271e-01, 5.43914445e-01],\n",
       "       [9.87017614e-01, 7.17881238e-03, 5.80357334e-03],\n",
       "       [1.53159142e-03, 8.51303828e-04, 9.97617105e-01],\n",
       "       [9.70254261e-01, 1.81577013e-02, 1.15880376e-02],\n",
       "       [9.44414834e-01, 3.87279800e-02, 1.68571863e-02],\n",
       "       [4.05009137e-03, 1.05728018e-02, 9.85377107e-01],\n",
       "       [9.65382155e-01, 2.29626855e-02, 1.16551597e-02],\n",
       "       [7.31981936e-03, 7.73491459e-03, 9.84945266e-01],\n",
       "       [1.32571878e-02, 9.67018731e-01, 1.97240810e-02],\n",
       "       [1.89348732e-02, 9.72308756e-01, 8.75637113e-03],\n",
       "       [5.39545632e-02, 9.33329848e-01, 1.27155884e-02],\n",
       "       [1.13962034e-02, 3.19228616e-02, 9.56680935e-01],\n",
       "       [1.26146448e-02, 5.05308698e-02, 9.36854485e-01],\n",
       "       [1.32168428e-02, 5.07268666e-01, 4.79514492e-01],\n",
       "       [1.12974569e-02, 5.75673352e-01, 4.13029191e-01],\n",
       "       [9.35046207e-01, 4.75282527e-02, 1.74255402e-02],\n",
       "       [2.68992939e-02, 9.64890708e-01, 8.20999834e-03],\n",
       "       [6.69424894e-03, 7.84135911e-03, 9.85464392e-01],\n",
       "       [1.50899594e-02, 5.97234903e-02, 9.25186550e-01],\n",
       "       [9.61363295e-01, 2.57983481e-02, 1.28383571e-02],\n",
       "       [5.30549618e-03, 9.59523214e-01, 3.51712900e-02],\n",
       "       [1.62577448e-02, 9.67052239e-01, 1.66900162e-02],\n",
       "       [1.70757146e-02, 4.94826569e-01, 4.88097716e-01],\n",
       "       [6.30379819e-03, 9.26356722e-01, 6.73394801e-02],\n",
       "       [9.75902191e-01, 1.53966535e-02, 8.70115534e-03],\n",
       "       [9.64597111e-01, 2.25170349e-02, 1.28858543e-02],\n",
       "       [9.53978013e-01, 3.20947005e-02, 1.39272865e-02],\n",
       "       [8.71750480e-03, 3.23387846e-02, 9.58943711e-01],\n",
       "       [1.46848881e-02, 9.77200423e-01, 8.11468931e-03],\n",
       "       [2.09598366e-03, 2.44773185e-03, 9.95456284e-01],\n",
       "       [9.62539583e-01, 2.47485672e-02, 1.27118501e-02]])"
      ]
     },
     "execution_count": 240,
     "metadata": {},
     "output_type": "execute_result"
    }
   ],
   "source": [
    "model_SVC.predict_proba(X_train)"
   ]
  },
  {
   "cell_type": "code",
   "execution_count": 244,
   "metadata": {},
   "outputs": [
    {
     "data": {
      "text/plain": [
       "array([[1.26263134e-03, 3.02841250e-01, 6.95896119e-01],\n",
       "       [1.17937468e-02, 3.47197111e-01, 6.41009143e-01],\n",
       "       [8.68660956e-01, 1.31301998e-01, 3.70460905e-05],\n",
       "       [4.35246914e-03, 3.05981238e-01, 6.89666293e-01],\n",
       "       [4.08777410e-04, 2.61195215e-01, 7.38396008e-01],\n",
       "       [3.64021083e-02, 4.81153339e-01, 4.82444553e-01],\n",
       "       [8.95248626e-01, 1.04728258e-01, 2.31155758e-05],\n",
       "       [1.68754654e-03, 3.74107617e-01, 6.24204837e-01],\n",
       "       [4.52044161e-02, 5.48231933e-01, 4.06563651e-01],\n",
       "       [4.22009490e-02, 7.29569168e-01, 2.28229883e-01],\n",
       "       [9.76204837e-04, 2.74410710e-01, 7.24613085e-01],\n",
       "       [8.51154959e-01, 1.48769686e-01, 7.53555307e-05],\n",
       "       [2.89375820e-03, 2.25125828e-01, 7.71980414e-01],\n",
       "       [9.08428296e-01, 9.14036073e-02, 1.68096402e-04],\n",
       "       [8.89541596e-01, 1.10437340e-01, 2.10634631e-05],\n",
       "       [3.56956199e-02, 7.15994917e-01, 2.48309463e-01],\n",
       "       [1.11906544e-03, 3.25059200e-01, 6.73821734e-01],\n",
       "       [6.34160505e-04, 1.52640249e-01, 8.46725590e-01],\n",
       "       [1.00089172e-03, 4.42548889e-01, 5.56450220e-01],\n",
       "       [2.52011145e-04, 3.95166803e-01, 6.04581186e-01],\n",
       "       [4.34677593e-02, 7.43885351e-01, 2.12646889e-01],\n",
       "       [2.89441088e-04, 3.02277345e-01, 6.97433213e-01],\n",
       "       [2.37651669e-02, 4.70968331e-01, 5.05266502e-01],\n",
       "       [4.37150896e-02, 7.39270712e-01, 2.17014198e-01],\n",
       "       [2.80700454e-03, 3.64957515e-01, 6.32235481e-01],\n",
       "       [2.78674481e-03, 4.46875765e-01, 5.50337490e-01],\n",
       "       [2.66767515e-03, 2.81158875e-01, 7.16173450e-01],\n",
       "       [1.33235702e-03, 3.48476468e-01, 6.50191175e-01],\n",
       "       [3.83738762e-02, 7.86286764e-01, 1.75339360e-01],\n",
       "       [1.98403596e-03, 2.76613567e-01, 7.21402397e-01],\n",
       "       [4.24674861e-02, 4.25136732e-01, 5.32395782e-01],\n",
       "       [8.09556606e-01, 1.90299535e-01, 1.43859169e-04],\n",
       "       [1.12656170e-03, 2.83030289e-01, 7.15843150e-01],\n",
       "       [2.32746279e-02, 5.76685690e-01, 4.00039683e-01],\n",
       "       [1.78880695e-01, 6.51466180e-01, 1.69653125e-01],\n",
       "       [2.52487483e-02, 5.98309314e-01, 3.76441938e-01],\n",
       "       [1.79147328e-02, 5.60866751e-01, 4.21218516e-01],\n",
       "       [6.63808155e-04, 3.61124249e-01, 6.38211943e-01],\n",
       "       [8.91414988e-01, 1.08560324e-01, 2.46874204e-05],\n",
       "       [8.31568879e-01, 1.68340594e-01, 9.05267138e-05],\n",
       "       [9.36086001e-04, 3.29408680e-01, 6.69655234e-01],\n",
       "       [5.30572392e-02, 6.59813750e-01, 2.87129011e-01],\n",
       "       [8.36107295e-01, 1.63844781e-01, 4.79240318e-05],\n",
       "       [9.57685435e-01, 4.23059586e-02, 8.60622140e-06],\n",
       "       [1.50745788e-02, 6.60835723e-01, 3.24089698e-01],\n",
       "       [8.22857163e-01, 1.76985137e-01, 1.57700222e-04],\n",
       "       [2.21048112e-03, 2.72969505e-01, 7.24820014e-01],\n",
       "       [2.74706112e-01, 6.42501794e-01, 8.27920932e-02],\n",
       "       [8.85266993e-01, 1.14622463e-01, 1.10544346e-04],\n",
       "       [4.32098039e-03, 5.44145292e-01, 4.51533728e-01],\n",
       "       [5.05423798e-04, 1.49790715e-01, 8.49703862e-01],\n",
       "       [3.87195531e-02, 6.06921652e-01, 3.54358795e-01],\n",
       "       [7.95485809e-01, 2.04434113e-01, 8.00777257e-05],\n",
       "       [4.21256194e-04, 3.01387498e-01, 6.98191246e-01],\n",
       "       [7.21104909e-04, 2.11525774e-01, 7.87753121e-01],\n",
       "       [3.69850612e-04, 2.44786175e-01, 7.54843975e-01],\n",
       "       [4.45282596e-04, 2.79922252e-01, 7.19632466e-01],\n",
       "       [9.00960699e-01, 9.90017288e-02, 3.75726416e-05],\n",
       "       [8.56725610e-01, 1.43174722e-01, 9.96683747e-05],\n",
       "       [3.82409095e-03, 2.58508908e-01, 7.37667001e-01],\n",
       "       [9.38067934e-04, 2.27171793e-01, 7.71890139e-01],\n",
       "       [7.11509128e-01, 2.88097013e-01, 3.93859502e-04],\n",
       "       [1.44563674e-03, 1.39876279e-01, 8.58678084e-01],\n",
       "       [8.07580253e-01, 1.92332368e-01, 8.73797405e-05],\n",
       "       [8.95127339e-04, 2.83117801e-01, 7.15987072e-01],\n",
       "       [1.61886321e-03, 2.73292953e-01, 7.25088184e-01],\n",
       "       [8.57711992e-01, 1.42166321e-01, 1.21687008e-04],\n",
       "       [8.90816888e-01, 1.09147243e-01, 3.58691689e-05],\n",
       "       [9.80163604e-04, 4.59658359e-01, 5.39361478e-01],\n",
       "       [8.87885562e-01, 1.12070403e-01, 4.40357079e-05],\n",
       "       [8.27681561e-01, 1.72163177e-01, 1.55262240e-04],\n",
       "       [9.19589293e-01, 8.03691002e-02, 4.16067374e-05],\n",
       "       [1.66328438e-02, 5.92657680e-01, 3.90709476e-01],\n",
       "       [4.24062105e-04, 2.14185245e-01, 7.85390692e-01],\n",
       "       [9.95388662e-05, 3.49703879e-01, 6.50196582e-01],\n",
       "       [8.76786455e-01, 1.23178921e-01, 3.46242922e-05],\n",
       "       [8.01498547e-01, 1.98425468e-01, 7.59849427e-05],\n",
       "       [8.61552785e-01, 1.38413841e-01, 3.33732341e-05],\n",
       "       [1.28443554e-02, 5.26511807e-01, 4.60643838e-01],\n",
       "       [4.51815561e-02, 7.52252102e-01, 2.02566342e-01],\n",
       "       [8.51190160e-01, 1.48772607e-01, 3.72325894e-05],\n",
       "       [8.65413475e-01, 1.34403087e-01, 1.83437883e-04],\n",
       "       [4.59692166e-02, 7.67746570e-01, 1.86284214e-01],\n",
       "       [8.74926689e-01, 1.25023885e-01, 4.94256501e-05],\n",
       "       [2.34702515e-05, 3.87108616e-01, 6.12867914e-01],\n",
       "       [1.19966842e-01, 7.12078482e-01, 1.67954676e-01],\n",
       "       [8.85534209e-04, 3.02530846e-01, 6.96583620e-01],\n",
       "       [5.90552975e-02, 7.70160249e-01, 1.70784453e-01],\n",
       "       [9.23936014e-01, 7.60501736e-02, 1.38128757e-05],\n",
       "       [5.36280765e-03, 2.99009460e-01, 6.95627733e-01],\n",
       "       [9.26273924e-01, 7.37221746e-02, 3.90117441e-06],\n",
       "       [6.50435696e-05, 3.96042757e-01, 6.03892199e-01],\n",
       "       [9.14951871e-01, 8.50101837e-02, 3.79457613e-05],\n",
       "       [8.28482520e-01, 1.71367878e-01, 1.49602407e-04],\n",
       "       [2.57477431e-04, 3.91504903e-01, 6.08237620e-01],\n",
       "       [8.51959427e-01, 1.47988716e-01, 5.18565200e-05],\n",
       "       [8.54618223e-04, 1.36157649e-01, 8.62987733e-01],\n",
       "       [4.16135517e-02, 6.32382164e-01, 3.26004285e-01],\n",
       "       [6.75021569e-02, 7.43868348e-01, 1.88629495e-01],\n",
       "       [1.51306829e-01, 7.81637020e-01, 6.70561512e-02],\n",
       "       [1.48028691e-03, 1.71670992e-01, 8.26848721e-01],\n",
       "       [1.60902346e-03, 2.16324492e-01, 7.82066484e-01],\n",
       "       [2.71718344e-03, 4.87082352e-01, 5.10200464e-01],\n",
       "       [5.98522519e-03, 4.58670304e-01, 5.35344471e-01],\n",
       "       [7.87296034e-01, 2.12586415e-01, 1.17551367e-04],\n",
       "       [6.10783269e-02, 7.88872406e-01, 1.50049267e-01],\n",
       "       [6.40113409e-04, 1.92627305e-01, 8.06732582e-01],\n",
       "       [1.12656170e-03, 2.83030289e-01, 7.15843150e-01],\n",
       "       [8.57155815e-01, 1.42795075e-01, 4.91098587e-05],\n",
       "       [2.28008573e-02, 7.52971085e-01, 2.24228058e-01],\n",
       "       [5.97100130e-02, 5.98959290e-01, 3.41330697e-01],\n",
       "       [7.36837047e-03, 2.63448945e-01, 7.29182685e-01],\n",
       "       [9.52323034e-03, 6.91947761e-01, 2.98529009e-01],\n",
       "       [8.74441233e-01, 1.25544143e-01, 1.46247786e-05],\n",
       "       [9.14081440e-01, 8.58639343e-02, 5.46260141e-05],\n",
       "       [8.01498547e-01, 1.98425468e-01, 7.59849427e-05],\n",
       "       [6.55825300e-04, 3.20571943e-01, 6.78772231e-01],\n",
       "       [4.64599855e-02, 7.89550601e-01, 1.63989413e-01],\n",
       "       [2.83551496e-04, 2.23628386e-01, 7.76088063e-01],\n",
       "       [8.46284503e-01, 1.53604470e-01, 1.11026979e-04]])"
      ]
     },
     "execution_count": 244,
     "metadata": {},
     "output_type": "execute_result"
    }
   ],
   "source": [
    "model6.predict_proba(X_train)"
   ]
  },
  {
   "cell_type": "code",
   "execution_count": 245,
   "metadata": {},
   "outputs": [],
   "source": [
    "####\n",
    "# SVC : \n",
    "# + Kararli\n",
    "# + Isabetli\n",
    "# + Hizli\n",
    "# + Olasılık değerlerini veriyor\n",
    "# - Aciklanabilirlik (örneğin DecisionTree görsellenebiliyor\n",
    "#                             RandomForest feature_importances gibi)\n",
    "# Naive Bayes:\n",
    "# + partial_fit özelliği\n",
    "# - Naif (degiskenlerin birbirinden bagimsiz oldugu kabulu)\n",
    "# Decision Tree:\n",
    "# + Aciklanabilirlik\n",
    "# + Hizli\n",
    "# - Overfit olmaya yatkin\n",
    "# - Parametrelerin ayarlanmasi (hiperparametreler: agac derinligi, yaprak sayisi, vs..)\n",
    "# - Olasılık tahmini yok\n",
    "# KNN:\n",
    "# + Basit ve anlasilir\n",
    "# + Kararli tahminler\n",
    "# - Komsu sayisi k parametresine cok yakindan bagli\n",
    "# ? Hiz (tartışmalı)\n",
    "# RandomForest:\n",
    "# + Stabil (Outlierlara karsi dayanikli)\n",
    "# + Degiskenlerin onemi\n",
    "# - Yavas\n",
    "# - Parametrelerin ayarlanmasi (hiperparametreler: agac derinligi, yaprak sayisi, vs..)\n",
    "# LogisticRegression:\n",
    "# + Yorumlanabirlik ust duzey\n",
    "# + Olasiliksal yaklasim"
   ]
  },
  {
   "cell_type": "code",
   "execution_count": 284,
   "metadata": {},
   "outputs": [],
   "source": [
    "from keras.models import Sequential\n",
    "from keras.layers import Dense,Softmax\n",
    "from sklearn.preprocessing import OneHotEncoder\n",
    "from keras.optimizers import SGD"
   ]
  },
  {
   "cell_type": "code",
   "execution_count": 285,
   "metadata": {},
   "outputs": [],
   "source": [
    "sgd=SGD(learning_rate=0.1)"
   ]
  },
  {
   "cell_type": "code",
   "execution_count": 286,
   "metadata": {},
   "outputs": [],
   "source": [
    "model7=Sequential()\n",
    "model7.add(Dense(4,input_shape=(4,), activation=\"tanh\"))\n",
    "model7.add(Dense(8,activation=\"tanh\"))\n",
    "model7.add(Dense(3,activation=\"sigmoid\"))\n",
    "model7.add(Softmax())"
   ]
  },
  {
   "cell_type": "code",
   "execution_count": 287,
   "metadata": {},
   "outputs": [],
   "source": [
    "model7.compile(optimizer=sgd,loss=\"categorical_crossentropy\")"
   ]
  },
  {
   "cell_type": "code",
   "execution_count": 288,
   "metadata": {},
   "outputs": [
    {
     "data": {
      "text/plain": [
       "array([[0., 0., 1.],\n",
       "       [0., 1., 0.],\n",
       "       [1., 0., 0.],\n",
       "       [0., 0., 1.],\n",
       "       [0., 0., 1.],\n",
       "       [0., 1., 0.],\n",
       "       [1., 0., 0.],\n",
       "       [0., 1., 0.],\n",
       "       [0., 1., 0.],\n",
       "       [0., 1., 0.],\n",
       "       [0., 0., 1.],\n",
       "       [1., 0., 0.],\n",
       "       [0., 0., 1.],\n",
       "       [1., 0., 0.],\n",
       "       [1., 0., 0.],\n",
       "       [0., 1., 0.],\n",
       "       [0., 0., 1.],\n",
       "       [0., 0., 1.],\n",
       "       [0., 0., 1.],\n",
       "       [0., 0., 1.],\n",
       "       [0., 1., 0.],\n",
       "       [0., 0., 1.],\n",
       "       [0., 1., 0.],\n",
       "       [0., 1., 0.],\n",
       "       [0., 0., 1.],\n",
       "       [0., 0., 1.],\n",
       "       [0., 0., 1.],\n",
       "       [0., 0., 1.],\n",
       "       [0., 1., 0.],\n",
       "       [0., 0., 1.],\n",
       "       [0., 1., 0.],\n",
       "       [1., 0., 0.],\n",
       "       [0., 0., 1.],\n",
       "       [0., 1., 0.],\n",
       "       [0., 1., 0.],\n",
       "       [0., 1., 0.],\n",
       "       [0., 1., 0.],\n",
       "       [0., 0., 1.],\n",
       "       [1., 0., 0.],\n",
       "       [1., 0., 0.],\n",
       "       [0., 0., 1.],\n",
       "       [0., 1., 0.],\n",
       "       [1., 0., 0.],\n",
       "       [1., 0., 0.],\n",
       "       [0., 1., 0.],\n",
       "       [1., 0., 0.],\n",
       "       [0., 0., 1.],\n",
       "       [0., 1., 0.],\n",
       "       [1., 0., 0.],\n",
       "       [0., 1., 0.],\n",
       "       [0., 0., 1.],\n",
       "       [0., 1., 0.],\n",
       "       [1., 0., 0.],\n",
       "       [0., 0., 1.],\n",
       "       [0., 0., 1.],\n",
       "       [0., 0., 1.],\n",
       "       [0., 0., 1.],\n",
       "       [1., 0., 0.],\n",
       "       [1., 0., 0.],\n",
       "       [0., 0., 1.],\n",
       "       [0., 0., 1.],\n",
       "       [1., 0., 0.],\n",
       "       [0., 0., 1.],\n",
       "       [1., 0., 0.],\n",
       "       [0., 0., 1.],\n",
       "       [0., 0., 1.],\n",
       "       [1., 0., 0.],\n",
       "       [1., 0., 0.],\n",
       "       [0., 0., 1.],\n",
       "       [1., 0., 0.],\n",
       "       [1., 0., 0.],\n",
       "       [1., 0., 0.],\n",
       "       [0., 1., 0.],\n",
       "       [0., 0., 1.],\n",
       "       [0., 0., 1.],\n",
       "       [1., 0., 0.],\n",
       "       [1., 0., 0.],\n",
       "       [1., 0., 0.],\n",
       "       [0., 1., 0.],\n",
       "       [0., 1., 0.],\n",
       "       [1., 0., 0.],\n",
       "       [1., 0., 0.],\n",
       "       [0., 1., 0.],\n",
       "       [1., 0., 0.],\n",
       "       [0., 0., 1.],\n",
       "       [0., 1., 0.],\n",
       "       [0., 0., 1.],\n",
       "       [0., 1., 0.],\n",
       "       [1., 0., 0.],\n",
       "       [0., 0., 1.],\n",
       "       [1., 0., 0.],\n",
       "       [0., 0., 1.],\n",
       "       [1., 0., 0.],\n",
       "       [1., 0., 0.],\n",
       "       [0., 0., 1.],\n",
       "       [1., 0., 0.],\n",
       "       [0., 0., 1.],\n",
       "       [0., 1., 0.],\n",
       "       [0., 1., 0.],\n",
       "       [0., 1., 0.],\n",
       "       [0., 0., 1.],\n",
       "       [0., 0., 1.],\n",
       "       [0., 1., 0.],\n",
       "       [0., 1., 0.],\n",
       "       [1., 0., 0.],\n",
       "       [0., 1., 0.],\n",
       "       [0., 0., 1.],\n",
       "       [0., 0., 1.],\n",
       "       [1., 0., 0.],\n",
       "       [0., 1., 0.],\n",
       "       [0., 1., 0.],\n",
       "       [0., 1., 0.],\n",
       "       [0., 1., 0.],\n",
       "       [1., 0., 0.],\n",
       "       [1., 0., 0.],\n",
       "       [1., 0., 0.],\n",
       "       [0., 0., 1.],\n",
       "       [0., 1., 0.],\n",
       "       [0., 0., 1.],\n",
       "       [1., 0., 0.]])"
      ]
     },
     "execution_count": 288,
     "metadata": {},
     "output_type": "execute_result"
    }
   ],
   "source": [
    "y_train_O=OneHotEncoder()\n",
    "y_train_O.fit_transform(y_train.values.reshape(-1,1)).toarray()"
   ]
  },
  {
   "cell_type": "code",
   "execution_count": 289,
   "metadata": {},
   "outputs": [
    {
     "data": {
      "text/plain": [
       "[<matplotlib.lines.Line2D at 0x9559c9240>]"
      ]
     },
     "execution_count": 289,
     "metadata": {},
     "output_type": "execute_result"
    },
    {
     "data": {
      "image/png": "[encoded data removed]",
      "text/plain": [
       "<Figure size 432x288 with 1 Axes>"
      ]
     },
     "metadata": {
      "needs_background": "light"
     },
     "output_type": "display_data"
    }
   ],
   "source": [
    "history=model7.fit(X_train,y_train_O.fit_transform(y_train.values.reshape(-1,1)).toarray()\n",
    "                   ,epochs=800, batch_size=32,verbose=0)\n",
    "history.history['loss']\n",
    "plt.plot(history.history['loss']) "
   ]
  },
  {
   "cell_type": "code",
   "execution_count": 290,
   "metadata": {},
   "outputs": [],
   "source": [
    "y_pred_N=model7.predict(X_train)"
   ]
  },
  {
   "cell_type": "code",
   "execution_count": 291,
   "metadata": {},
   "outputs": [
    {
     "data": {
      "text/plain": [
       "0.9833333333333333"
      ]
     },
     "execution_count": 291,
     "metadata": {},
     "output_type": "execute_result"
    }
   ],
   "source": [
    "from sklearn.metrics import accuracy_score\n",
    "accuracy_score(y_train_O.fit_transform(y_train.values.reshape(-1,1)).toarray().argmax(axis=1),\n",
    "               y_pred_N.argmax(axis=1))"
   ]
  },
  {
   "cell_type": "code",
   "execution_count": 293,
   "metadata": {},
   "outputs": [
    {
     "data": {
      "text/plain": [
       "1.0"
      ]
     },
     "execution_count": 293,
     "metadata": {},
     "output_type": "execute_result"
    }
   ],
   "source": [
    "accuracy_score(y_train_O.transform(y_test.values.reshape(-1,1)).toarray().argmax(axis=1),\n",
    "               model7.predict(X_test).argmax(axis=1))"
   ]
  },
  {
   "cell_type": "code",
   "execution_count": null,
   "metadata": {},
   "outputs": [],
   "source": []
  }
 ],
 "metadata": {
  "kernelspec": {
   "display_name": "Python 3",
   "language": "python",
   "name": "python3"
  },
  "language_info": {
   "codemirror_mode": {
    "name": "ipython",
    "version": 3
   },
   "file_extension": ".py",
   "mimetype": "text/x-python",
   "name": "python",
   "nbconvert_exporter": "python",
   "pygments_lexer": "ipython3",
   "version": "3.7.3"
  }
 },
 "nbformat": 4,
 "nbformat_minor": 2
}
